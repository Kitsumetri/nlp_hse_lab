{
 "cells": [
  {
   "cell_type": "code",
   "execution_count": 5,
   "metadata": {},
   "outputs": [],
   "source": [
    "! pip install -q pandas numpy catboost scipy matplotlib scikit-learn xgboost nltk colorlog pathlib spacy seaborn optuna mlflow ipywidgets"
   ]
  },
  {
   "cell_type": "code",
   "execution_count": 8,
   "metadata": {},
   "outputs": [
    {
     "name": "stdout",
     "output_type": "stream",
     "text": [
      "Looking in indexes: https://mirrors.aliyun.com/pypi/simple/\n",
      "Collecting en-core-web-sm==3.8.0\n",
      "  Using cached https://github.com/explosion/spacy-models/releases/download/en_core_web_sm-3.8.0/en_core_web_sm-3.8.0-py3-none-any.whl (12.8 MB)\n",
      "\u001b[38;5;2m✔ Download and installation successful\u001b[0m\n",
      "You can now load the package via spacy.load('en_core_web_sm')\n"
     ]
    }
   ],
   "source": [
    "! spacy download en_core_web_sm"
   ]
  },
  {
   "cell_type": "code",
   "execution_count": null,
   "metadata": {},
   "outputs": [
    {
     "name": "stdout",
     "output_type": "stream",
     "text": [
      "\u001b[33m>>> [2025-01-31 | 15:13:11] logger:70 - WARNING - Log file wasn't created due to file_log=False\u001b[0m\n"
     ]
    }
   ],
   "source": [
    "from src.logger import setup_logger, ROOT_DIR\n",
    "from pathlib import Path\n",
    "from dataclasses import dataclass\n",
    "\n",
    "import logging\n",
    "\n",
    "import pandas as pd\n",
    "import numpy as np\n",
    "import seaborn as sns\n",
    "import matplotlib.pyplot as plt\n",
    "\n",
    "\n",
    "setup_logger(\n",
    "    level=logging.INFO,\n",
    "    stdout_log=True,\n",
    "    file_log=False\n",
    ")"
   ]
  },
  {
   "cell_type": "code",
   "execution_count": 10,
   "metadata": {},
   "outputs": [],
   "source": [
    "df_news = pd.read_json(ROOT_DIR / 'data/bbc_articles.json')"
   ]
  },
  {
   "cell_type": "code",
   "execution_count": 12,
   "metadata": {},
   "outputs": [
    {
     "data": {
      "text/html": [
       "<div>\n",
       "<style scoped>\n",
       "    .dataframe tbody tr th:only-of-type {\n",
       "        vertical-align: middle;\n",
       "    }\n",
       "\n",
       "    .dataframe tbody tr th {\n",
       "        vertical-align: top;\n",
       "    }\n",
       "\n",
       "    .dataframe thead th {\n",
       "        text-align: right;\n",
       "    }\n",
       "</style>\n",
       "<table border=\"1\" class=\"dataframe\">\n",
       "  <thead>\n",
       "    <tr style=\"text-align: right;\">\n",
       "      <th></th>\n",
       "      <th>article_id</th>\n",
       "      <th>title</th>\n",
       "      <th>category</th>\n",
       "      <th>tags</th>\n",
       "      <th>summary</th>\n",
       "      <th>text</th>\n",
       "    </tr>\n",
       "  </thead>\n",
       "  <tbody>\n",
       "    <tr>\n",
       "      <th>805</th>\n",
       "      <td>https://www.bbc.com/news/articles/c5yerz18wrpo</td>\n",
       "      <td>Views sought on Surrey countryside</td>\n",
       "      <td>articles</td>\n",
       "      <td>No Tags Available</td>\n",
       "      <td>Surrey County Council owns and manages over 10...</td>\n",
       "      <td>People have been asked to take part in a surve...</td>\n",
       "    </tr>\n",
       "    <tr>\n",
       "      <th>1087</th>\n",
       "      <td>https://www.bbc.com/news/videos/cn9375g2n8eo</td>\n",
       "      <td>Fly alongside a stunning starling murmuration</td>\n",
       "      <td>videos</td>\n",
       "      <td>No Tags Available</td>\n",
       "      <td>A pro-videographer waited weeks for the perfec...</td>\n",
       "      <td>A drone videographer has captured a starling m...</td>\n",
       "    </tr>\n",
       "    <tr>\n",
       "      <th>882</th>\n",
       "      <td>https://www.bbc.com/news/scotland/south_scotland</td>\n",
       "      <td>South Scotland</td>\n",
       "      <td>scotland</td>\n",
       "      <td>No Tags Available</td>\n",
       "      <td>Get all the latest news, live updates and cont...</td>\n",
       "      <td>'Survival mode': Storm Éowyn left us without p...</td>\n",
       "    </tr>\n",
       "  </tbody>\n",
       "</table>\n",
       "</div>"
      ],
      "text/plain": [
       "                                            article_id  \\\n",
       "805     https://www.bbc.com/news/articles/c5yerz18wrpo   \n",
       "1087      https://www.bbc.com/news/videos/cn9375g2n8eo   \n",
       "882   https://www.bbc.com/news/scotland/south_scotland   \n",
       "\n",
       "                                              title  category  \\\n",
       "805             Views sought on Surrey countryside   articles   \n",
       "1087  Fly alongside a stunning starling murmuration    videos   \n",
       "882                                  South Scotland  scotland   \n",
       "\n",
       "                   tags                                            summary  \\\n",
       "805   No Tags Available  Surrey County Council owns and manages over 10...   \n",
       "1087  No Tags Available  A pro-videographer waited weeks for the perfec...   \n",
       "882   No Tags Available  Get all the latest news, live updates and cont...   \n",
       "\n",
       "                                                   text  \n",
       "805   People have been asked to take part in a surve...  \n",
       "1087  A drone videographer has captured a starling m...  \n",
       "882   'Survival mode': Storm Éowyn left us without p...  "
      ]
     },
     "execution_count": 12,
     "metadata": {},
     "output_type": "execute_result"
    }
   ],
   "source": [
    "df_news.sample(3)"
   ]
  },
  {
   "cell_type": "code",
   "execution_count": null,
   "metadata": {},
   "outputs": [],
   "source": [
    "@dataclass\n",
    "class PreprocessParams:\n",
    "    spacy_model: str = \"en_core_web_sm\"\n",
    "    remove_punct: bool = True\n",
    "    custom_punct: str = r'[!\"#$%&\\'()*+,-./:;<=>?@[\\\\]^_`{|}~]'\n",
    "    remove_stopwords: bool = True\n",
    "    lemmatize: bool = True\n",
    "    stem: bool = False\n",
    "    lowercase: bool = True\n",
    "    min_token_length: int = 2\n",
    "\n",
    "from sklearn.base import BaseEstimator, TransformerMixin\n",
    "from sklearn.pipeline import Pipeline\n",
    "import re\n",
    "import spacy\n",
    "from spacy.lang.en.stop_words import STOP_WORDS\n",
    "from nltk.stem import PorterStemmer\n",
    "\n",
    "class TextCleaner(BaseEstimator, TransformerMixin):\n",
    "    def __init__(self, params: PreprocessParams):\n",
    "        self.params = params\n",
    "        \n",
    "    def fit(self, X, y=None):\n",
    "        return self\n",
    "        \n",
    "    def transform(self, X):\n",
    "        X = X.astype(str)\n",
    "        if self.params.remove_punct:\n",
    "            X = X.apply(lambda text: re.sub(self.params.custom_punct, ' ', text))\n",
    "            X = X.apply(lambda text: re.sub(r'\\s+', ' ', text).strip())\n",
    "        if self.params.lowercase:\n",
    "            X = X.str.lower()\n",
    "        return X\n",
    "\n",
    "class SpacyTokenizer(BaseEstimator, TransformerMixin):\n",
    "    def __init__(self, params: PreprocessParams):\n",
    "        self.params = params\n",
    "        self.nlp = spacy.load(params.spacy_model, disable=[\"parser\", \"ner\"])\n",
    "        \n",
    "    def fit(self, X, y=None):\n",
    "        return self\n",
    "    \n",
    "    def transform(self, X):\n",
    "        return X.apply(lambda text: [token.text for token in self.nlp(text)])\n",
    "\n",
    "class TokenProcessor(BaseEstimator, TransformerMixin):\n",
    "    def __init__(self, params: PreprocessParams):\n",
    "        self.params = params\n",
    "        self.stopwords = set(STOP_WORDS)\n",
    "        self.nlp = spacy.load(params.spacy_model, disable=[\"parser\", \"ner\"])\n",
    "        self.stemmer = PorterStemmer() if params.stem else None\n",
    "        \n",
    "    def fit(self, X, y=None):\n",
    "        return self\n",
    "    \n",
    "    def transform(self, X):\n",
    "        processed_tokens = []\n",
    "        for tokens in X:\n",
    "            filtered = []\n",
    "            for token in tokens:\n",
    "                # Length filtering\n",
    "                if len(token) < self.params.min_token_length:\n",
    "                    continue\n",
    "                \n",
    "                # Stopword removal\n",
    "                if self.params.remove_stopwords and token.lower() in self.stopwords:\n",
    "                    continue\n",
    "                \n",
    "                # Lemmatization/Stemming\n",
    "                if self.params.lemmatize:\n",
    "                    token = self.nlp(token)[0].lemma_\n",
    "                elif self.params.stem:\n",
    "                    token = self.stemmer.stem(token)\n",
    "                \n",
    "                filtered.append(token)\n",
    "            processed_tokens.append(filtered)\n",
    "        return pd.Series(processed_tokens)"
   ]
  }
 ],
 "metadata": {
  "kernelspec": {
   "display_name": ".venv",
   "language": "python",
   "name": "python3"
  },
  "language_info": {
   "codemirror_mode": {
    "name": "ipython",
    "version": 3
   },
   "file_extension": ".py",
   "mimetype": "text/x-python",
   "name": "python",
   "nbconvert_exporter": "python",
   "pygments_lexer": "ipython3",
   "version": "3.10.12"
  }
 },
 "nbformat": 4,
 "nbformat_minor": 2
}
