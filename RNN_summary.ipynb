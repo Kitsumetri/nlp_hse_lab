{
  "nbformat": 4,
  "nbformat_minor": 0,
  "metadata": {
    "kernelspec": {
      "name": "python3",
      "display_name": "Python 3"
    },
    "language_info": {
      "codemirror_mode": {
        "name": "ipython",
        "version": 3
      },
      "file_extension": ".py",
      "mimetype": "text/x-python",
      "name": "python",
      "nbconvert_exporter": "python",
      "pygments_lexer": "ipython3",
      "version": "3.7.0"
    },
    "colab": {
      "provenance": []
    },
    "accelerator": "GPU"
  },
  "cells": [
    {
      "cell_type": "markdown",
      "metadata": {
        "id": "uDFhyOmQan0v"
      },
      "source": [
        "# Text generation with deep learning"
      ]
    },
    {
      "cell_type": "code",
      "metadata": {
        "id": "TslNQEFlan0z"
      },
      "source": [
        "import sys\n",
        "import os\n",
        "import os.path\n",
        "import random\n",
        "import collections\n",
        "import shutil\n",
        "import time\n",
        "import glob\n",
        "import csv\n",
        "import matplotlib.pyplot as plt\n",
        "import numpy as np\n",
        "import pandas as pd\n",
        "from math import pi\n",
        "import scipy\n",
        "\n",
        "import torch\n",
        "import torch.nn as nn\n",
        "import torch.nn.functional as F\n",
        "import torch.optim as optim\n",
        "from torch.utils.data import Dataset, DataLoader\n",
        "from torch.autograd import Variable\n",
        "\n",
        "import torchvision\n",
        "from torchvision import transforms, datasets\n",
        "\n",
        "\n",
        "\n",
        "%matplotlib inline\n",
        "\n",
        "\n",
        "from bokeh.io import show,output_notebook\n",
        "from bokeh.models import ColumnDataSource, HoverTool, LinearColorMapper, BasicTicker, PrintfTickFormatter,ColorBar\n",
        "from bokeh.models import FuncTickFormatter\n",
        "from bokeh.plotting import figure\n",
        "\n",
        "output_notebook()"
      ],
      "execution_count": null,
      "outputs": []
    },
    {
      "cell_type": "code",
      "metadata": {
        "id": "8TLW9Gcoan06"
      },
      "source": [],
      "execution_count": null,
      "outputs": []
    },
    {
      "cell_type": "markdown",
      "metadata": {
        "id": "1z-nkq4Tan0-"
      },
      "source": [
        "**Задача**\n",
        "\n",
        "   Обучить character recurrent neural network (char RNN) на датасете статей arxiv, а также на своих данных и исследовать её свойства."
      ]
    },
    {
      "cell_type": "markdown",
      "metadata": {
        "id": "6dvYiuYwan1A"
      },
      "source": [
        "Определим структуру сети, в качестве основного блока используем **GRU**"
      ]
    },
    {
      "cell_type": "code",
      "metadata": {
        "id": "uB9dp0eman1B"
      },
      "source": [
        "class RNN(nn.Module):\n",
        "    def __init__(self, input_size, hidden_size, output_size, n_layers=1):\n",
        "        super(RNN, self).__init__()\n",
        "        self.input_size = input_size\n",
        "        self.hidden_size = hidden_size\n",
        "        self.output_size = output_size\n",
        "        self.n_layers = n_layers\n",
        "\n",
        "        self.encoder = nn.Embedding(input_size, hidden_size)\n",
        "        self.gru = nn.GRU(hidden_size, hidden_size, n_layers)\n",
        "        self.decoder = nn.Linear(hidden_size, output_size)\n",
        "\n",
        "    def forward(self, input, hidden):\n",
        "        input = self.encoder(input.view(1, -1))\n",
        "        output, hidden = self.gru(input.view(1, 1, -1), hidden)\n",
        "        output = self.decoder(output.view(1, -1))\n",
        "        return output, hidden\n",
        "\n",
        "    def init_hidden(self):\n",
        "        return torch.zeros(self.n_layers, 1, self.hidden_size)\n",
        "\n",
        "    def save_model(model, filename='rnn.ckpt'):\n",
        "        checkpoint = {'input_size': model.input_size,\n",
        "                      'hidden_size': model.hidden_size,\n",
        "                      'output_size': model.output_size,\n",
        "                      'n_layers': model.n_layers,\n",
        "                      'state_dict': model.state_dict()}\n",
        "        with open(filename, 'wb') as f:\n",
        "            torch.save(checkpoint, f)\n",
        "\n",
        "    def load_model(filename):\n",
        "\n",
        "        with open(filename, 'rb') as f:\n",
        "            checkpoint = torch.load(f)\n",
        "\n",
        "        model = RNN(input_size = checkpoint['input_size'], output_size = checkpoint['output_size'], hidden_size=checkpoint['hidden_size'], n_layers=checkpoint['n_layers'])\n",
        "        model.load_state_dict(checkpoint['state_dict'])\n",
        "\n",
        "        return model"
      ],
      "execution_count": null,
      "outputs": []
    },
    {
      "cell_type": "markdown",
      "metadata": {
        "id": "F14Yl_xWyQA2"
      },
      "source": [
        "# Пример реализации класса для получения данных из датасета"
      ]
    },
    {
      "cell_type": "code",
      "metadata": {
        "id": "VZf7PBqGan1F"
      },
      "source": [
        "class TextDataset(Dataset):\n",
        "    def __init__(self, text, chunk_len=10, chunks_number=100):\n",
        "        self.chunks_number = chunks_number\n",
        "        self.chunk_len = chunk_len\n",
        "        self.text = text\n",
        "        self.all_symbols = list({x for x in self.text})\n",
        "\n",
        "    def __len__(self):\n",
        "        return self.chunks_number\n",
        "\n",
        "    def _get_tensor(self, text):\n",
        "        return torch.LongTensor(list(map(self.all_symbols.index, text))).cuda()\n",
        "\n",
        "    def _decode_vector(self, text):\n",
        "        text = text.view(-1).cpu().numpy()\n",
        "        if text.shape[0] == 1:\n",
        "            text = list(text)\n",
        "        return ''.join([self.all_symbols[x] for x in text])\n",
        "\n",
        "    def _get_random_slice(self):\n",
        "        start_index = random.randint(0, len(self.text) - self.chunk_len)\n",
        "        end_index = start_index + self.chunk_len + 1\n",
        "        return self.text[start_index:end_index]\n",
        "\n",
        "    def __getitem__(self, idx):\n",
        "        chunk = self._get_random_slice()\n",
        "        return self._get_tensor(chunk[:-1]), self._get_tensor(chunk[1:])"
      ],
      "execution_count": null,
      "outputs": []
    },
    {
      "cell_type": "markdown",
      "metadata": {
        "id": "ThGUbWYsan1J"
      },
      "source": [
        "# Здесь должен быть код для считывания данных и создания даталоадера"
      ]
    },
    {
      "cell_type": "code",
      "metadata": {
        "id": "DXnbcOYT36sN"
      },
      "source": [],
      "execution_count": null,
      "outputs": []
    },
    {
      "cell_type": "markdown",
      "metadata": {
        "id": "wQifVgIy37ow"
      },
      "source": [
        "Смотрим, сколько уникальных символов есть в датасете - это и будет размер выходного вектора у нейронной сети"
      ]
    },
    {
      "cell_type": "code",
      "metadata": {
        "id": "QO8snknfan1W"
      },
      "source": [
        "unique_symbols = len(arxiv_dataset.all_symbols)\n",
        "n_layers = 2\n",
        "hidden_size = 100"
      ],
      "execution_count": null,
      "outputs": []
    },
    {
      "cell_type": "code",
      "metadata": {
        "id": "0rcpzJLlan1Z",
        "outputId": "00e45308-3c22-4110-cff7-a3d949b04993",
        "colab": {
          "base_uri": "https://localhost:8080/",
          "height": 34
        }
      },
      "source": [
        "unique_symbols"
      ],
      "execution_count": null,
      "outputs": [
        {
          "output_type": "execute_result",
          "data": {
            "text/plain": [
              "65"
            ]
          },
          "metadata": {
            "tags": []
          },
          "execution_count": 7
        }
      ]
    },
    {
      "cell_type": "code",
      "metadata": {
        "id": "7wCYn1gaan1e"
      },
      "source": [
        "net = RNN(unique_symbols, hidden_size, unique_symbols, n_layers)"
      ],
      "execution_count": null,
      "outputs": []
    },
    {
      "cell_type": "code",
      "metadata": {
        "id": "T0pIYSrXan1j"
      },
      "source": [
        "device = torch.device(\"cuda\")"
      ],
      "execution_count": null,
      "outputs": []
    },
    {
      "cell_type": "code",
      "metadata": {
        "id": "XCETV2_lan1m"
      },
      "source": [
        "net = net.to(device)\n",
        "optimizer = torch.optim.Adam(net.parameters(), lr=1e-4)\n",
        "criterion = nn.CrossEntropyLoss().cuda()"
      ],
      "execution_count": null,
      "outputs": []
    },
    {
      "cell_type": "markdown",
      "metadata": {
        "id": "mUNreOMx48it"
      },
      "source": [
        "# Здесь нужно реализовать функцию для генерации текста с помощью сети"
      ]
    },
    {
      "cell_type": "code",
      "metadata": {
        "id": "dxxUXllHan1q"
      },
      "source": [
        "def generate(net, device, dataset, prime_str='А', predict_len=100, temperature=0.8):\n",
        "    #Code to generate string based on input sequence (prime_str)\n",
        "\n",
        "    return predicted_string"
      ],
      "execution_count": null,
      "outputs": []
    },
    {
      "cell_type": "markdown",
      "metadata": {
        "id": "Yg6SlunJ5D2J"
      },
      "source": [
        "# Здесь должен быть цикл тренировки"
      ]
    },
    {
      "cell_type": "code",
      "metadata": {
        "id": "OM0k28d5an1y"
      },
      "source": [
        "epochs = 100"
      ],
      "execution_count": null,
      "outputs": []
    },
    {
      "cell_type": "code",
      "metadata": {
        "id": "k-7Or0mLan11"
      },
      "source": [
        "start = time.time()\n",
        "\n",
        "for epoch in range(1, epochs+1):\n",
        "    for inputs, targets in loader:\n",
        "        #Your code for training here\n",
        "print(\"Saving...\")\n",
        "RNN.save_model(net, \"TrainedModel.ckpt\")"
      ],
      "execution_count": null,
      "outputs": []
    },
    {
      "cell_type": "code",
      "metadata": {
        "id": "FmnpaXXmd4ys",
        "outputId": "67a1aeb1-1e8b-4c37-f417-7e6827ccb2dd",
        "colab": {
          "base_uri": "https://localhost:8080/",
          "height": 34
        }
      },
      "source": [
        "net(inputs[0], hidden)[0].shape"
      ],
      "execution_count": null,
      "outputs": [
        {
          "output_type": "execute_result",
          "data": {
            "text/plain": [
              "torch.Size([1, 65])"
            ]
          },
          "metadata": {
            "tags": []
          },
          "execution_count": 26
        }
      ]
    },
    {
      "cell_type": "code",
      "metadata": {
        "id": "spXEocSpeUl_",
        "outputId": "895ef4de-1cf6-4c67-9645-640097f68671",
        "colab": {
          "base_uri": "https://localhost:8080/",
          "height": 34
        }
      },
      "source": [
        "targets[0]"
      ],
      "execution_count": null,
      "outputs": [
        {
          "output_type": "execute_result",
          "data": {
            "text/plain": [
              "tensor(46, device='cuda:0')"
            ]
          },
          "metadata": {
            "tags": []
          },
          "execution_count": 30
        }
      ]
    },
    {
      "cell_type": "code",
      "metadata": {
        "id": "TK02ZAsWan15",
        "outputId": "1ceceb05-8ecc-4a43-ccb4-0c4f7fb8aa07",
        "colab": {
          "base_uri": "https://localhost:8080/",
          "height": 282
        }
      },
      "source": [
        "plt.figure()\n",
        "plt.plot(all_losses)"
      ],
      "execution_count": null,
      "outputs": [
        {
          "output_type": "execute_result",
          "data": {
            "text/plain": [
              "[<matplotlib.lines.Line2D at 0x7f7e7a98efd0>]"
            ]
          },
          "metadata": {
            "tags": []
          },
          "execution_count": 18
        },
        {
          "output_type": "display_data",
          "data": {
            "image/png": "[encoded data removed]",
            "text/plain": [
              "<Figure size 432x288 with 1 Axes>"
            ]
          },
          "metadata": {
            "tags": []
          }
        }
      ]
    },
    {
      "cell_type": "markdown",
      "metadata": {
        "id": "DZ_g0iNran2A"
      },
      "source": [
        "## Результаты тренировки"
      ]
    },
    {
      "cell_type": "code",
      "metadata": {
        "id": "KGgmnmQPan2B"
      },
      "source": [
        "print(generate(net, device, arxiv_dataset, 'In this research', 200 ), '\\n')"
      ],
      "execution_count": null,
      "outputs": []
    },
    {
      "cell_type": "code",
      "metadata": {
        "id": "gqk5li8han2M"
      },
      "source": [],
      "execution_count": null,
      "outputs": []
    },
    {
      "cell_type": "markdown",
      "metadata": {
        "id": "o7s73qNy5xEY"
      },
      "source": [
        "# Здесь должны быть эксперименты с архитектурой и параметрами сети"
      ]
    },
    {
      "cell_type": "code",
      "metadata": {
        "id": "ZS0qg5Ra54_X"
      },
      "source": [],
      "execution_count": null,
      "outputs": []
    },
    {
      "cell_type": "markdown",
      "metadata": {
        "id": "k4-MqjYH55pT"
      },
      "source": [
        "# Здесь будет работа с вашими датасетами (которые вы захотите использовать)"
      ]
    },
    {
      "cell_type": "code",
      "metadata": {
        "id": "eKxaIMDY6CMg"
      },
      "source": [],
      "execution_count": null,
      "outputs": []
    }
  ]
}