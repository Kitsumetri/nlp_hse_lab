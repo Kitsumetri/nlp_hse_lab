{
  "cells": [
    {
      "cell_type": "markdown",
      "metadata": {
        "id": "uDFhyOmQan0v"
      },
      "source": [
        "# Text generation with deep learning"
      ]
    },
    {
      "cell_type": "code",
      "execution_count": 1,
      "metadata": {
        "id": "TslNQEFlan0z"
      },
      "outputs": [],
      "source": [
        "import sys\n",
        "import os\n",
        "import os.path\n",
        "import random\n",
        "import collections\n",
        "import shutil\n",
        "import time\n",
        "import glob\n",
        "import csv\n",
        "import matplotlib.pyplot as plt\n",
        "import numpy as np\n",
        "import pandas as pd\n",
        "from math import pi\n",
        "import scipy\n",
        "\n",
        "import torch\n",
        "import torch.nn as nn\n",
        "import torch.nn.functional as F\n",
        "import torch.optim as optim\n",
        "from torch.utils.data import Dataset, DataLoader\n",
        "from torch.autograd import Variable"
      ]
    },
    {
      "cell_type": "markdown",
      "metadata": {
        "id": "1z-nkq4Tan0-"
      },
      "source": [
        "**Задача**\n",
        "\n",
        "   Обучить character recurrent neural network (char RNN) на датасете статей arxiv, а также на своих данных и исследовать её свойства."
      ]
    },
    {
      "cell_type": "markdown",
      "metadata": {
        "id": "6dvYiuYwan1A"
      },
      "source": [
        "Определим структуру сети, в качестве основного блока используем **GRU**"
      ]
    },
    {
      "cell_type": "code",
      "execution_count": 2,
      "metadata": {
        "id": "uB9dp0eman1B"
      },
      "outputs": [],
      "source": [
        "class RNN(nn.Module):\n",
        "    def __init__(self, input_size, hidden_size, output_size, n_layers=1):\n",
        "        super(RNN, self).__init__()\n",
        "        self.input_size = input_size\n",
        "        self.hidden_size = hidden_size\n",
        "        self.output_size = output_size\n",
        "        self.n_layers = n_layers\n",
        "\n",
        "        self.encoder = nn.Embedding(input_size, hidden_size)\n",
        "        self.gru = nn.GRU(hidden_size, hidden_size, n_layers)\n",
        "        self.decoder = nn.Linear(hidden_size, output_size)\n",
        "\n",
        "    def forward(self, input, hidden):\n",
        "        input = self.encoder(input.view(1, -1))\n",
        "        output, hidden = self.gru(input.view(1, 1, -1), hidden)\n",
        "        output = self.decoder(output.view(1, -1))\n",
        "        return output, hidden\n",
        "\n",
        "    def init_hidden(self):\n",
        "        return torch.zeros(self.n_layers, 1, self.hidden_size)\n",
        "\n",
        "    def save_model(model, filename='rnn.ckpt'):\n",
        "        checkpoint = {'input_size': model.input_size,\n",
        "                      'hidden_size': model.hidden_size,\n",
        "                      'output_size': model.output_size,\n",
        "                      'n_layers': model.n_layers,\n",
        "                      'state_dict': model.state_dict()}\n",
        "        with open(filename, 'wb') as f:\n",
        "            torch.save(checkpoint, f)\n",
        "\n",
        "    def load_model(filename):\n",
        "\n",
        "        with open(filename, 'rb') as f:\n",
        "            checkpoint = torch.load(f)\n",
        "\n",
        "        model = RNN(input_size = checkpoint['input_size'], \n",
        "                    output_size = checkpoint['output_size'], \n",
        "                    hidden_size=checkpoint['hidden_size'], \n",
        "                    n_layers=checkpoint['n_layers'])\n",
        "        model.load_state_dict(checkpoint['state_dict'])\n",
        "\n",
        "        return model"
      ]
    },
    {
      "cell_type": "markdown",
      "metadata": {
        "id": "F14Yl_xWyQA2"
      },
      "source": [
        "# Пример реализации класса для получения данных из датасета"
      ]
    },
    {
      "cell_type": "code",
      "execution_count": 3,
      "metadata": {
        "id": "VZf7PBqGan1F"
      },
      "outputs": [],
      "source": [
        "class TextDataset(Dataset):\n",
        "    def __init__(self, text, chunk_len=10, chunks_number=100):\n",
        "        self.chunks_number = chunks_number\n",
        "        self.chunk_len = chunk_len\n",
        "        self.text = text\n",
        "        self.all_symbols = list({x for x in self.text})\n",
        "\n",
        "    def __len__(self):\n",
        "        return self.chunks_number\n",
        "\n",
        "    def _get_tensor(self, text):\n",
        "        return torch.LongTensor(list(map(self.all_symbols.index, text))).cuda()\n",
        "\n",
        "    def _decode_vector(self, text):\n",
        "        text = text.view(-1).cpu().numpy()\n",
        "        if text.shape[0] == 1:\n",
        "            text = list(text)\n",
        "        return ''.join([self.all_symbols[x] for x in text])\n",
        "\n",
        "    def _get_random_slice(self):\n",
        "        start_index = random.randint(0, len(self.text) - self.chunk_len)\n",
        "        end_index = start_index + self.chunk_len + 1\n",
        "        return self.text[start_index:end_index]\n",
        "\n",
        "    def __getitem__(self, idx):\n",
        "        chunk = self._get_random_slice()\n",
        "        return self._get_tensor(chunk[:-1]), self._get_tensor(chunk[1:])"
      ]
    },
    {
      "cell_type": "markdown",
      "metadata": {
        "id": "ThGUbWYsan1J"
      },
      "source": [
        "# Здесь должен быть код для считывания данных и создания даталоадера"
      ]
    },
    {
      "cell_type": "code",
      "execution_count": null,
      "metadata": {
        "id": "DXnbcOYT36sN"
      },
      "outputs": [],
      "source": [
        "csv_path = 'data/arxiv.csv'  # Replace with your CSV path\n",
        "summary_column = 'summary'  # Replace with your actual column name\n",
        "\n",
        "df = pd.read_csv(csv_path)\n",
        "text = ' '.join(df[summary_column].dropna().values)  # Combine all summaries into one string\n",
        "\n",
        "chunk_len = 100  # Length of each training chunk\n",
        "chunks_number = 100  # Number of chunks per epoch\n",
        "\n",
        "arxiv_dataset = TextDataset(text, chunk_len=chunk_len, chunks_number=chunks_number)\n",
        "loader = DataLoader(arxiv_dataset, batch_size=1, shuffle=True)"
      ]
    },
    {
      "cell_type": "markdown",
      "metadata": {
        "id": "wQifVgIy37ow"
      },
      "source": [
        "Смотрим, сколько уникальных символов есть в датасете - это и будет размер выходного вектора у нейронной сети"
      ]
    },
    {
      "cell_type": "code",
      "execution_count": 40,
      "metadata": {
        "id": "QO8snknfan1W"
      },
      "outputs": [],
      "source": [
        "unique_symbols = len(arxiv_dataset.all_symbols)\n",
        "n_layers = 2\n",
        "hidden_size = 100"
      ]
    },
    {
      "cell_type": "code",
      "execution_count": 41,
      "metadata": {
        "colab": {
          "base_uri": "https://localhost:8080/",
          "height": 34
        },
        "id": "0rcpzJLlan1Z",
        "outputId": "00e45308-3c22-4110-cff7-a3d949b04993"
      },
      "outputs": [
        {
          "data": {
            "text/plain": [
              "97"
            ]
          },
          "execution_count": 41,
          "metadata": {},
          "output_type": "execute_result"
        }
      ],
      "source": [
        "unique_symbols"
      ]
    },
    {
      "cell_type": "code",
      "execution_count": 42,
      "metadata": {
        "id": "XCETV2_lan1m"
      },
      "outputs": [],
      "source": [
        "device = torch.device(\"cuda\" if torch.cuda.is_available() else \"cpu\")\n",
        "net = RNN(unique_symbols, hidden_size, unique_symbols, n_layers)\n",
        "net = net.to(device)\n",
        "optimizer = torch.optim.Adam(net.parameters(), lr=1e-4)\n",
        "criterion = nn.CrossEntropyLoss()"
      ]
    },
    {
      "cell_type": "markdown",
      "metadata": {
        "id": "mUNreOMx48it"
      },
      "source": [
        "# Здесь нужно реализовать функцию для генерации текста с помощью сети"
      ]
    },
    {
      "cell_type": "code",
      "execution_count": 34,
      "metadata": {
        "id": "dxxUXllHan1q"
      },
      "outputs": [],
      "source": [
        "def generate(net, device, dataset, prime_str='A', predict_len=100, temperature=0.8):\n",
        "    net.eval()\n",
        "\n",
        "    hidden = net.init_hidden().to(device)\n",
        "    prime_input = dataset._get_tensor(prime_str)\n",
        "    predicted_string = prime_str\n",
        "\n",
        "    # Process the prime string\n",
        "    for p in range(len(prime_input) - 1):\n",
        "        _, hidden = net(prime_input[p], hidden)\n",
        "    \n",
        "    input_char = prime_input[-1]\n",
        "    for _ in range(predict_len):\n",
        "        output, hidden = net(input_char, hidden)\n",
        "        output_dist = output.div(temperature).exp().cpu()\n",
        "        top_i = torch.multinomial(output_dist, 1).item()\n",
        "        predicted_char = dataset.all_symbols[top_i]\n",
        "        predicted_string += predicted_char\n",
        "        input_char = torch.tensor([top_i], dtype=torch.long).to(device)\n",
        "    \n",
        "    net.train()\n",
        "    return predicted_string"
      ]
    },
    {
      "cell_type": "markdown",
      "metadata": {
        "id": "Yg6SlunJ5D2J"
      },
      "source": [
        "# Здесь должен быть цикл тренировки"
      ]
    },
    {
      "cell_type": "code",
      "execution_count": null,
      "metadata": {
        "id": "OM0k28d5an1y"
      },
      "outputs": [],
      "source": [
        "epochs = 1"
      ]
    },
    {
      "cell_type": "code",
      "execution_count": null,
      "metadata": {
        "id": "k-7Or0mLan11"
      },
      "outputs": [
        {
          "name": "stderr",
          "output_type": "stream",
          "text": [
            "  1%|          | 101/10000 [00:14<22:07,  7.45it/s] "
          ]
        },
        {
          "name": "stdout",
          "output_type": "stream",
          "text": [
            "Epoch 1, Batch 100, Loss: 293.7578125\n"
          ]
        },
        {
          "name": "stderr",
          "output_type": "stream",
          "text": [
            "  2%|▏         | 201/10000 [00:27<21:57,  7.44it/s]"
          ]
        },
        {
          "name": "stdout",
          "output_type": "stream",
          "text": [
            "Epoch 1, Batch 200, Loss: 263.8544921875\n"
          ]
        },
        {
          "name": "stderr",
          "output_type": "stream",
          "text": [
            "  3%|▎         | 301/10000 [00:40<20:47,  7.77it/s]"
          ]
        },
        {
          "name": "stdout",
          "output_type": "stream",
          "text": [
            "Epoch 1, Batch 300, Loss: 262.4697265625\n"
          ]
        },
        {
          "name": "stderr",
          "output_type": "stream",
          "text": [
            "  4%|▍         | 401/10000 [00:54<21:13,  7.54it/s]  "
          ]
        },
        {
          "name": "stdout",
          "output_type": "stream",
          "text": [
            "Epoch 1, Batch 400, Loss: 284.50048828125\n"
          ]
        },
        {
          "name": "stderr",
          "output_type": "stream",
          "text": [
            "  5%|▌         | 501/10000 [01:08<20:32,  7.71it/s]"
          ]
        },
        {
          "name": "stdout",
          "output_type": "stream",
          "text": [
            "Epoch 1, Batch 500, Loss: 263.92529296875\n"
          ]
        },
        {
          "name": "stderr",
          "output_type": "stream",
          "text": [
            "  6%|▌         | 601/10000 [01:22<20:49,  7.52it/s]  "
          ]
        },
        {
          "name": "stdout",
          "output_type": "stream",
          "text": [
            "Epoch 1, Batch 600, Loss: 269.414794921875\n"
          ]
        },
        {
          "name": "stderr",
          "output_type": "stream",
          "text": [
            "  7%|▋         | 701/10000 [01:35<19:27,  7.97it/s]"
          ]
        },
        {
          "name": "stdout",
          "output_type": "stream",
          "text": [
            "Epoch 1, Batch 700, Loss: 356.5283203125\n"
          ]
        },
        {
          "name": "stderr",
          "output_type": "stream",
          "text": [
            "  8%|▊         | 801/10000 [01:48<20:12,  7.58it/s]"
          ]
        },
        {
          "name": "stdout",
          "output_type": "stream",
          "text": [
            "Epoch 1, Batch 800, Loss: 263.159912109375\n"
          ]
        },
        {
          "name": "stderr",
          "output_type": "stream",
          "text": [
            "  9%|▉         | 901/10000 [02:03<18:07,  8.37it/s]  "
          ]
        },
        {
          "name": "stdout",
          "output_type": "stream",
          "text": [
            "Epoch 1, Batch 900, Loss: 291.63623046875\n"
          ]
        },
        {
          "name": "stderr",
          "output_type": "stream",
          "text": [
            " 10%|█         | 1001/10000 [02:16<21:08,  7.09it/s]"
          ]
        },
        {
          "name": "stdout",
          "output_type": "stream",
          "text": [
            "Epoch 1, Batch 1000, Loss: 246.648681640625\n"
          ]
        },
        {
          "name": "stderr",
          "output_type": "stream",
          "text": [
            " 11%|█         | 1101/10000 [02:30<19:53,  7.46it/s]  "
          ]
        },
        {
          "name": "stdout",
          "output_type": "stream",
          "text": [
            "Epoch 1, Batch 1100, Loss: 280.6507568359375\n"
          ]
        },
        {
          "name": "stderr",
          "output_type": "stream",
          "text": [
            " 12%|█▏        | 1201/10000 [02:43<17:52,  8.21it/s]"
          ]
        },
        {
          "name": "stdout",
          "output_type": "stream",
          "text": [
            "Epoch 1, Batch 1200, Loss: 227.18505859375\n"
          ]
        },
        {
          "name": "stderr",
          "output_type": "stream",
          "text": [
            " 13%|█▎        | 1301/10000 [02:56<18:37,  7.78it/s]"
          ]
        },
        {
          "name": "stdout",
          "output_type": "stream",
          "text": [
            "Epoch 1, Batch 1300, Loss: 254.8974609375\n"
          ]
        },
        {
          "name": "stderr",
          "output_type": "stream",
          "text": [
            " 14%|█▍        | 1401/10000 [03:11<18:00,  7.96it/s]  "
          ]
        },
        {
          "name": "stdout",
          "output_type": "stream",
          "text": [
            "Epoch 1, Batch 1400, Loss: 215.739013671875\n"
          ]
        },
        {
          "name": "stderr",
          "output_type": "stream",
          "text": [
            " 15%|█▌        | 1501/10000 [03:23<19:18,  7.34it/s]"
          ]
        },
        {
          "name": "stdout",
          "output_type": "stream",
          "text": [
            "Epoch 1, Batch 1500, Loss: 251.127685546875\n"
          ]
        },
        {
          "name": "stderr",
          "output_type": "stream",
          "text": [
            " 16%|█▌        | 1601/10000 [03:38<18:07,  7.72it/s]  "
          ]
        },
        {
          "name": "stdout",
          "output_type": "stream",
          "text": [
            "Epoch 1, Batch 1600, Loss: 207.9696044921875\n"
          ]
        },
        {
          "name": "stderr",
          "output_type": "stream",
          "text": [
            " 17%|█▋        | 1701/10000 [03:51<19:08,  7.23it/s]"
          ]
        },
        {
          "name": "stdout",
          "output_type": "stream",
          "text": [
            "Epoch 1, Batch 1700, Loss: 223.7694091796875\n"
          ]
        },
        {
          "name": "stderr",
          "output_type": "stream",
          "text": [
            " 18%|█▊        | 1801/10000 [04:05<51:04,  2.68it/s]  "
          ]
        },
        {
          "name": "stdout",
          "output_type": "stream",
          "text": [
            "Epoch 1, Batch 1800, Loss: 242.6495361328125\n"
          ]
        },
        {
          "name": "stderr",
          "output_type": "stream",
          "text": [
            " 19%|█▉        | 1901/10000 [04:19<18:20,  7.36it/s]"
          ]
        },
        {
          "name": "stdout",
          "output_type": "stream",
          "text": [
            "Epoch 1, Batch 1900, Loss: 228.5177001953125\n"
          ]
        },
        {
          "name": "stderr",
          "output_type": "stream",
          "text": [
            " 20%|██        | 2001/10000 [04:32<17:11,  7.75it/s]"
          ]
        },
        {
          "name": "stdout",
          "output_type": "stream",
          "text": [
            "Epoch 1, Batch 2000, Loss: 239.54827880859375\n"
          ]
        },
        {
          "name": "stderr",
          "output_type": "stream",
          "text": [
            " 21%|██        | 2101/10000 [04:46<18:43,  7.03it/s]  "
          ]
        },
        {
          "name": "stdout",
          "output_type": "stream",
          "text": [
            "Epoch 1, Batch 2100, Loss: 199.90966796875\n"
          ]
        },
        {
          "name": "stderr",
          "output_type": "stream",
          "text": [
            " 22%|██▏       | 2201/10000 [04:59<19:54,  6.53it/s]"
          ]
        },
        {
          "name": "stdout",
          "output_type": "stream",
          "text": [
            "Epoch 1, Batch 2200, Loss: 264.8887939453125\n"
          ]
        },
        {
          "name": "stderr",
          "output_type": "stream",
          "text": [
            " 23%|██▎       | 2301/10000 [05:14<17:29,  7.33it/s]  "
          ]
        },
        {
          "name": "stdout",
          "output_type": "stream",
          "text": [
            "Epoch 1, Batch 2300, Loss: 231.2552490234375\n"
          ]
        },
        {
          "name": "stderr",
          "output_type": "stream",
          "text": [
            " 24%|██▍       | 2401/10000 [05:27<16:16,  7.78it/s]"
          ]
        },
        {
          "name": "stdout",
          "output_type": "stream",
          "text": [
            "Epoch 1, Batch 2400, Loss: 236.0465087890625\n"
          ]
        },
        {
          "name": "stderr",
          "output_type": "stream",
          "text": [
            " 25%|██▌       | 2501/10000 [05:41<18:52,  6.62it/s]"
          ]
        },
        {
          "name": "stdout",
          "output_type": "stream",
          "text": [
            "Epoch 1, Batch 2500, Loss: 231.6376953125\n"
          ]
        },
        {
          "name": "stderr",
          "output_type": "stream",
          "text": [
            " 26%|██▌       | 2601/10000 [05:56<16:23,  7.52it/s]  "
          ]
        },
        {
          "name": "stdout",
          "output_type": "stream",
          "text": [
            "Epoch 1, Batch 2600, Loss: 217.7191162109375\n"
          ]
        },
        {
          "name": "stderr",
          "output_type": "stream",
          "text": [
            " 27%|██▋       | 2701/10000 [06:10<16:15,  7.48it/s]"
          ]
        },
        {
          "name": "stdout",
          "output_type": "stream",
          "text": [
            "Epoch 1, Batch 2700, Loss: 236.94775390625\n"
          ]
        },
        {
          "name": "stderr",
          "output_type": "stream",
          "text": [
            " 28%|██▊       | 2801/10000 [06:25<16:23,  7.32it/s]  "
          ]
        },
        {
          "name": "stdout",
          "output_type": "stream",
          "text": [
            "Epoch 1, Batch 2800, Loss: 280.3004150390625\n"
          ]
        },
        {
          "name": "stderr",
          "output_type": "stream",
          "text": [
            " 29%|██▉       | 2901/10000 [06:38<15:32,  7.61it/s]"
          ]
        },
        {
          "name": "stdout",
          "output_type": "stream",
          "text": [
            "Epoch 1, Batch 2900, Loss: 224.83056640625\n"
          ]
        },
        {
          "name": "stderr",
          "output_type": "stream",
          "text": [
            " 30%|███       | 3001/10000 [06:53<20:51,  5.59it/s]"
          ]
        },
        {
          "name": "stdout",
          "output_type": "stream",
          "text": [
            "Epoch 1, Batch 3000, Loss: 226.730712890625\n"
          ]
        },
        {
          "name": "stderr",
          "output_type": "stream",
          "text": [
            " 31%|███       | 3101/10000 [07:07<15:19,  7.50it/s]"
          ]
        },
        {
          "name": "stdout",
          "output_type": "stream",
          "text": [
            "Epoch 1, Batch 3100, Loss: 258.1939697265625\n"
          ]
        },
        {
          "name": "stderr",
          "output_type": "stream",
          "text": [
            " 32%|███▏      | 3201/10000 [07:21<16:00,  7.08it/s]"
          ]
        },
        {
          "name": "stdout",
          "output_type": "stream",
          "text": [
            "Epoch 1, Batch 3200, Loss: 250.3375244140625\n"
          ]
        },
        {
          "name": "stderr",
          "output_type": "stream",
          "text": [
            " 33%|███▎      | 3301/10000 [07:36<15:06,  7.39it/s]"
          ]
        },
        {
          "name": "stdout",
          "output_type": "stream",
          "text": [
            "Epoch 1, Batch 3300, Loss: 209.4881591796875\n"
          ]
        },
        {
          "name": "stderr",
          "output_type": "stream",
          "text": [
            " 34%|███▍      | 3401/10000 [07:49<15:22,  7.15it/s]"
          ]
        },
        {
          "name": "stdout",
          "output_type": "stream",
          "text": [
            "Epoch 1, Batch 3400, Loss: 248.55242919921875\n"
          ]
        },
        {
          "name": "stderr",
          "output_type": "stream",
          "text": [
            " 35%|███▌      | 3501/10000 [08:05<17:35,  6.16it/s]"
          ]
        },
        {
          "name": "stdout",
          "output_type": "stream",
          "text": [
            "Epoch 1, Batch 3500, Loss: 192.2933349609375\n"
          ]
        },
        {
          "name": "stderr",
          "output_type": "stream",
          "text": [
            " 36%|███▌      | 3601/10000 [08:20<14:31,  7.35it/s]"
          ]
        },
        {
          "name": "stdout",
          "output_type": "stream",
          "text": [
            "Epoch 1, Batch 3600, Loss: 202.85736083984375\n"
          ]
        },
        {
          "name": "stderr",
          "output_type": "stream",
          "text": [
            " 37%|███▋      | 3701/10000 [08:35<14:13,  7.38it/s]"
          ]
        },
        {
          "name": "stdout",
          "output_type": "stream",
          "text": [
            "Epoch 1, Batch 3700, Loss: 212.0162353515625\n"
          ]
        },
        {
          "name": "stderr",
          "output_type": "stream",
          "text": [
            " 38%|███▊      | 3801/10000 [08:49<13:57,  7.40it/s]"
          ]
        },
        {
          "name": "stdout",
          "output_type": "stream",
          "text": [
            "Epoch 1, Batch 3800, Loss: 234.400146484375\n"
          ]
        },
        {
          "name": "stderr",
          "output_type": "stream",
          "text": [
            " 39%|███▉      | 3901/10000 [09:03<14:29,  7.01it/s]"
          ]
        },
        {
          "name": "stdout",
          "output_type": "stream",
          "text": [
            "Epoch 1, Batch 3900, Loss: 224.4637451171875\n"
          ]
        },
        {
          "name": "stderr",
          "output_type": "stream",
          "text": [
            " 40%|████      | 4001/10000 [09:18<13:21,  7.48it/s]"
          ]
        },
        {
          "name": "stdout",
          "output_type": "stream",
          "text": [
            "Epoch 1, Batch 4000, Loss: 230.9998779296875\n"
          ]
        },
        {
          "name": "stderr",
          "output_type": "stream",
          "text": [
            " 41%|████      | 4101/10000 [09:32<13:13,  7.43it/s]"
          ]
        },
        {
          "name": "stdout",
          "output_type": "stream",
          "text": [
            "Epoch 1, Batch 4100, Loss: 231.711669921875\n"
          ]
        },
        {
          "name": "stderr",
          "output_type": "stream",
          "text": [
            " 42%|████▏     | 4201/10000 [09:47<12:51,  7.51it/s]"
          ]
        },
        {
          "name": "stdout",
          "output_type": "stream",
          "text": [
            "Epoch 1, Batch 4200, Loss: 229.07421875\n"
          ]
        },
        {
          "name": "stderr",
          "output_type": "stream",
          "text": [
            " 43%|████▎     | 4301/10000 [10:00<13:09,  7.22it/s]"
          ]
        },
        {
          "name": "stdout",
          "output_type": "stream",
          "text": [
            "Epoch 1, Batch 4300, Loss: 195.9046630859375\n"
          ]
        },
        {
          "name": "stderr",
          "output_type": "stream",
          "text": [
            " 44%|████▍     | 4401/10000 [10:16<12:27,  7.49it/s]"
          ]
        },
        {
          "name": "stdout",
          "output_type": "stream",
          "text": [
            "Epoch 1, Batch 4400, Loss: 185.5882568359375\n"
          ]
        },
        {
          "name": "stderr",
          "output_type": "stream",
          "text": [
            " 45%|████▌     | 4501/10000 [10:29<12:33,  7.30it/s]"
          ]
        },
        {
          "name": "stdout",
          "output_type": "stream",
          "text": [
            "Epoch 1, Batch 4500, Loss: 185.6302490234375\n"
          ]
        },
        {
          "name": "stderr",
          "output_type": "stream",
          "text": [
            " 46%|████▌     | 4601/10000 [10:43<11:25,  7.88it/s]"
          ]
        },
        {
          "name": "stdout",
          "output_type": "stream",
          "text": [
            "Epoch 1, Batch 4600, Loss: 202.21533203125\n"
          ]
        },
        {
          "name": "stderr",
          "output_type": "stream",
          "text": [
            " 47%|████▋     | 4701/10000 [10:56<10:51,  8.13it/s]"
          ]
        },
        {
          "name": "stdout",
          "output_type": "stream",
          "text": [
            "Epoch 1, Batch 4700, Loss: 209.0543212890625\n"
          ]
        },
        {
          "name": "stderr",
          "output_type": "stream",
          "text": [
            " 48%|████▊     | 4801/10000 [11:09<11:39,  7.44it/s]"
          ]
        },
        {
          "name": "stdout",
          "output_type": "stream",
          "text": [
            "Epoch 1, Batch 4800, Loss: 217.091064453125\n"
          ]
        },
        {
          "name": "stderr",
          "output_type": "stream",
          "text": [
            " 49%|████▉     | 4901/10000 [11:23<10:57,  7.76it/s]"
          ]
        },
        {
          "name": "stdout",
          "output_type": "stream",
          "text": [
            "Epoch 1, Batch 4900, Loss: 200.92578125\n"
          ]
        },
        {
          "name": "stderr",
          "output_type": "stream",
          "text": [
            " 50%|█████     | 5001/10000 [11:36<10:46,  7.73it/s]"
          ]
        },
        {
          "name": "stdout",
          "output_type": "stream",
          "text": [
            "Epoch 1, Batch 5000, Loss: 183.6396484375\n"
          ]
        },
        {
          "name": "stderr",
          "output_type": "stream",
          "text": [
            " 51%|█████     | 5101/10000 [11:49<11:04,  7.37it/s]"
          ]
        },
        {
          "name": "stdout",
          "output_type": "stream",
          "text": [
            "Epoch 1, Batch 5100, Loss: 235.87603759765625\n"
          ]
        },
        {
          "name": "stderr",
          "output_type": "stream",
          "text": [
            " 52%|█████▏    | 5201/10000 [12:04<10:35,  7.55it/s]"
          ]
        },
        {
          "name": "stdout",
          "output_type": "stream",
          "text": [
            "Epoch 1, Batch 5200, Loss: 192.40008544921875\n"
          ]
        },
        {
          "name": "stderr",
          "output_type": "stream",
          "text": [
            " 53%|█████▎    | 5301/10000 [12:17<10:13,  7.66it/s]"
          ]
        },
        {
          "name": "stdout",
          "output_type": "stream",
          "text": [
            "Epoch 1, Batch 5300, Loss: 229.9981689453125\n"
          ]
        },
        {
          "name": "stderr",
          "output_type": "stream",
          "text": [
            " 54%|█████▍    | 5401/10000 [12:31<09:36,  7.98it/s]"
          ]
        },
        {
          "name": "stdout",
          "output_type": "stream",
          "text": [
            "Epoch 1, Batch 5400, Loss: 231.4481201171875\n"
          ]
        },
        {
          "name": "stderr",
          "output_type": "stream",
          "text": [
            " 55%|█████▌    | 5501/10000 [12:44<09:50,  7.62it/s]"
          ]
        },
        {
          "name": "stdout",
          "output_type": "stream",
          "text": [
            "Epoch 1, Batch 5500, Loss: 199.14569091796875\n"
          ]
        },
        {
          "name": "stderr",
          "output_type": "stream",
          "text": [
            " 56%|█████▌    | 5601/10000 [12:58<10:16,  7.13it/s]"
          ]
        },
        {
          "name": "stdout",
          "output_type": "stream",
          "text": [
            "Epoch 1, Batch 5600, Loss: 177.84698486328125\n"
          ]
        },
        {
          "name": "stderr",
          "output_type": "stream",
          "text": [
            " 57%|█████▋    | 5701/10000 [13:12<08:59,  7.96it/s]"
          ]
        },
        {
          "name": "stdout",
          "output_type": "stream",
          "text": [
            "Epoch 1, Batch 5700, Loss: 168.6552734375\n"
          ]
        },
        {
          "name": "stderr",
          "output_type": "stream",
          "text": [
            " 58%|█████▊    | 5801/10000 [13:25<09:14,  7.57it/s]"
          ]
        },
        {
          "name": "stdout",
          "output_type": "stream",
          "text": [
            "Epoch 1, Batch 5800, Loss: 239.569580078125\n"
          ]
        },
        {
          "name": "stderr",
          "output_type": "stream",
          "text": [
            " 59%|█████▉    | 5901/10000 [13:39<08:35,  7.96it/s]"
          ]
        },
        {
          "name": "stdout",
          "output_type": "stream",
          "text": [
            "Epoch 1, Batch 5900, Loss: 229.6923828125\n"
          ]
        },
        {
          "name": "stderr",
          "output_type": "stream",
          "text": [
            " 60%|██████    | 6001/10000 [13:53<08:51,  7.52it/s]"
          ]
        },
        {
          "name": "stdout",
          "output_type": "stream",
          "text": [
            "Epoch 1, Batch 6000, Loss: 175.8721923828125\n"
          ]
        },
        {
          "name": "stderr",
          "output_type": "stream",
          "text": [
            " 61%|██████    | 6101/10000 [14:07<09:28,  6.86it/s]"
          ]
        },
        {
          "name": "stdout",
          "output_type": "stream",
          "text": [
            "Epoch 1, Batch 6100, Loss: 184.081298828125\n"
          ]
        },
        {
          "name": "stderr",
          "output_type": "stream",
          "text": [
            " 62%|██████▏   | 6201/10000 [14:20<08:28,  7.47it/s]"
          ]
        },
        {
          "name": "stdout",
          "output_type": "stream",
          "text": [
            "Epoch 1, Batch 6200, Loss: 244.4544677734375\n"
          ]
        },
        {
          "name": "stderr",
          "output_type": "stream",
          "text": [
            " 63%|██████▎   | 6301/10000 [14:34<08:14,  7.48it/s]"
          ]
        },
        {
          "name": "stdout",
          "output_type": "stream",
          "text": [
            "Epoch 1, Batch 6300, Loss: 201.57177734375\n"
          ]
        },
        {
          "name": "stderr",
          "output_type": "stream",
          "text": [
            " 64%|██████▍   | 6401/10000 [14:49<07:58,  7.52it/s]"
          ]
        },
        {
          "name": "stdout",
          "output_type": "stream",
          "text": [
            "Epoch 1, Batch 6400, Loss: 198.83233642578125\n"
          ]
        },
        {
          "name": "stderr",
          "output_type": "stream",
          "text": [
            " 65%|██████▌   | 6501/10000 [15:02<07:51,  7.41it/s]"
          ]
        },
        {
          "name": "stdout",
          "output_type": "stream",
          "text": [
            "Epoch 1, Batch 6500, Loss: 219.6905517578125\n"
          ]
        },
        {
          "name": "stderr",
          "output_type": "stream",
          "text": [
            " 66%|██████▌   | 6601/10000 [15:16<07:19,  7.73it/s]"
          ]
        },
        {
          "name": "stdout",
          "output_type": "stream",
          "text": [
            "Epoch 1, Batch 6600, Loss: 188.12353515625\n"
          ]
        },
        {
          "name": "stderr",
          "output_type": "stream",
          "text": [
            " 67%|██████▋   | 6701/10000 [15:30<08:17,  6.63it/s]"
          ]
        },
        {
          "name": "stdout",
          "output_type": "stream",
          "text": [
            "Epoch 1, Batch 6700, Loss: 194.4892578125\n"
          ]
        },
        {
          "name": "stderr",
          "output_type": "stream",
          "text": [
            " 68%|██████▊   | 6801/10000 [15:43<07:16,  7.33it/s]"
          ]
        },
        {
          "name": "stdout",
          "output_type": "stream",
          "text": [
            "Epoch 1, Batch 6800, Loss: 222.53228759765625\n"
          ]
        },
        {
          "name": "stderr",
          "output_type": "stream",
          "text": [
            " 69%|██████▉   | 6901/10000 [15:58<06:26,  8.01it/s]"
          ]
        },
        {
          "name": "stdout",
          "output_type": "stream",
          "text": [
            "Epoch 1, Batch 6900, Loss: 215.30987548828125\n"
          ]
        },
        {
          "name": "stderr",
          "output_type": "stream",
          "text": [
            " 70%|███████   | 7001/10000 [16:11<06:39,  7.50it/s]"
          ]
        },
        {
          "name": "stdout",
          "output_type": "stream",
          "text": [
            "Epoch 1, Batch 7000, Loss: 166.4810791015625\n"
          ]
        },
        {
          "name": "stderr",
          "output_type": "stream",
          "text": [
            " 71%|███████   | 7101/10000 [16:26<06:37,  7.29it/s]"
          ]
        },
        {
          "name": "stdout",
          "output_type": "stream",
          "text": [
            "Epoch 1, Batch 7100, Loss: 207.5926513671875\n"
          ]
        },
        {
          "name": "stderr",
          "output_type": "stream",
          "text": [
            " 72%|███████▏  | 7201/10000 [16:39<06:00,  7.76it/s]"
          ]
        },
        {
          "name": "stdout",
          "output_type": "stream",
          "text": [
            "Epoch 1, Batch 7200, Loss: 198.21075439453125\n"
          ]
        },
        {
          "name": "stderr",
          "output_type": "stream",
          "text": [
            " 73%|███████▎  | 7301/10000 [16:52<05:42,  7.89it/s]"
          ]
        },
        {
          "name": "stdout",
          "output_type": "stream",
          "text": [
            "Epoch 1, Batch 7300, Loss: 186.84375\n"
          ]
        },
        {
          "name": "stderr",
          "output_type": "stream",
          "text": [
            " 74%|███████▍  | 7401/10000 [17:06<05:40,  7.64it/s]"
          ]
        },
        {
          "name": "stdout",
          "output_type": "stream",
          "text": [
            "Epoch 1, Batch 7400, Loss: 205.1163330078125\n"
          ]
        },
        {
          "name": "stderr",
          "output_type": "stream",
          "text": [
            " 75%|███████▌  | 7501/10000 [17:20<05:23,  7.74it/s]"
          ]
        },
        {
          "name": "stdout",
          "output_type": "stream",
          "text": [
            "Epoch 1, Batch 7500, Loss: 186.3023681640625\n"
          ]
        },
        {
          "name": "stderr",
          "output_type": "stream",
          "text": [
            " 76%|███████▌  | 7601/10000 [17:34<05:15,  7.60it/s]"
          ]
        },
        {
          "name": "stdout",
          "output_type": "stream",
          "text": [
            "Epoch 1, Batch 7600, Loss: 187.93112182617188\n"
          ]
        },
        {
          "name": "stderr",
          "output_type": "stream",
          "text": [
            " 77%|███████▋  | 7701/10000 [17:47<04:57,  7.72it/s]"
          ]
        },
        {
          "name": "stdout",
          "output_type": "stream",
          "text": [
            "Epoch 1, Batch 7700, Loss: 198.1375732421875\n"
          ]
        },
        {
          "name": "stderr",
          "output_type": "stream",
          "text": [
            " 78%|███████▊  | 7801/10000 [18:01<07:54,  4.64it/s]"
          ]
        },
        {
          "name": "stdout",
          "output_type": "stream",
          "text": [
            "Epoch 1, Batch 7800, Loss: 194.20465087890625\n"
          ]
        },
        {
          "name": "stderr",
          "output_type": "stream",
          "text": [
            " 79%|███████▉  | 7901/10000 [18:14<04:30,  7.76it/s]"
          ]
        },
        {
          "name": "stdout",
          "output_type": "stream",
          "text": [
            "Epoch 1, Batch 7900, Loss: 223.67486572265625\n"
          ]
        },
        {
          "name": "stderr",
          "output_type": "stream",
          "text": [
            " 80%|████████  | 8001/10000 [18:27<04:22,  7.62it/s]"
          ]
        },
        {
          "name": "stdout",
          "output_type": "stream",
          "text": [
            "Epoch 1, Batch 8000, Loss: 168.12841796875\n"
          ]
        },
        {
          "name": "stderr",
          "output_type": "stream",
          "text": [
            " 81%|████████  | 8101/10000 [18:42<04:07,  7.67it/s]"
          ]
        },
        {
          "name": "stdout",
          "output_type": "stream",
          "text": [
            "Epoch 1, Batch 8100, Loss: 182.37969970703125\n"
          ]
        },
        {
          "name": "stderr",
          "output_type": "stream",
          "text": [
            " 82%|████████▏ | 8201/10000 [18:55<03:50,  7.80it/s]"
          ]
        },
        {
          "name": "stdout",
          "output_type": "stream",
          "text": [
            "Epoch 1, Batch 8200, Loss: 188.5126953125\n"
          ]
        },
        {
          "name": "stderr",
          "output_type": "stream",
          "text": [
            " 83%|████████▎ | 8301/10000 [19:09<03:52,  7.32it/s]"
          ]
        },
        {
          "name": "stdout",
          "output_type": "stream",
          "text": [
            "Epoch 1, Batch 8300, Loss: 192.28909301757812\n"
          ]
        },
        {
          "name": "stderr",
          "output_type": "stream",
          "text": [
            " 84%|████████▍ | 8401/10000 [19:22<03:32,  7.53it/s]"
          ]
        },
        {
          "name": "stdout",
          "output_type": "stream",
          "text": [
            "Epoch 1, Batch 8400, Loss: 169.10519409179688\n"
          ]
        },
        {
          "name": "stderr",
          "output_type": "stream",
          "text": [
            " 85%|████████▌ | 8501/10000 [19:34<03:19,  7.51it/s]"
          ]
        },
        {
          "name": "stdout",
          "output_type": "stream",
          "text": [
            "Epoch 1, Batch 8500, Loss: 188.322021484375\n"
          ]
        },
        {
          "name": "stderr",
          "output_type": "stream",
          "text": [
            " 86%|████████▌ | 8601/10000 [19:49<02:58,  7.83it/s]"
          ]
        },
        {
          "name": "stdout",
          "output_type": "stream",
          "text": [
            "Epoch 1, Batch 8600, Loss: 215.445068359375\n"
          ]
        },
        {
          "name": "stderr",
          "output_type": "stream",
          "text": [
            " 87%|████████▋ | 8701/10000 [20:02<02:44,  7.87it/s]"
          ]
        },
        {
          "name": "stdout",
          "output_type": "stream",
          "text": [
            "Epoch 1, Batch 8700, Loss: 287.50579833984375\n"
          ]
        },
        {
          "name": "stderr",
          "output_type": "stream",
          "text": [
            " 88%|████████▊ | 8801/10000 [20:16<02:38,  7.55it/s]"
          ]
        },
        {
          "name": "stdout",
          "output_type": "stream",
          "text": [
            "Epoch 1, Batch 8800, Loss: 179.85256958007812\n"
          ]
        },
        {
          "name": "stderr",
          "output_type": "stream",
          "text": [
            " 89%|████████▉ | 8901/10000 [20:30<02:29,  7.34it/s]"
          ]
        },
        {
          "name": "stdout",
          "output_type": "stream",
          "text": [
            "Epoch 1, Batch 8900, Loss: 217.21826171875\n"
          ]
        },
        {
          "name": "stderr",
          "output_type": "stream",
          "text": [
            " 90%|█████████ | 9001/10000 [20:43<02:09,  7.71it/s]"
          ]
        },
        {
          "name": "stdout",
          "output_type": "stream",
          "text": [
            "Epoch 1, Batch 9000, Loss: 168.74468994140625\n"
          ]
        },
        {
          "name": "stderr",
          "output_type": "stream",
          "text": [
            " 91%|█████████ | 9101/10000 [20:57<01:55,  7.77it/s]"
          ]
        },
        {
          "name": "stdout",
          "output_type": "stream",
          "text": [
            "Epoch 1, Batch 9100, Loss: 211.74725341796875\n"
          ]
        },
        {
          "name": "stderr",
          "output_type": "stream",
          "text": [
            " 92%|█████████▏| 9201/10000 [21:10<01:45,  7.58it/s]"
          ]
        },
        {
          "name": "stdout",
          "output_type": "stream",
          "text": [
            "Epoch 1, Batch 9200, Loss: 231.49737548828125\n"
          ]
        },
        {
          "name": "stderr",
          "output_type": "stream",
          "text": [
            " 93%|█████████▎| 9301/10000 [21:24<01:32,  7.59it/s]"
          ]
        },
        {
          "name": "stdout",
          "output_type": "stream",
          "text": [
            "Epoch 1, Batch 9300, Loss: 167.6334228515625\n"
          ]
        },
        {
          "name": "stderr",
          "output_type": "stream",
          "text": [
            " 94%|█████████▍| 9401/10000 [21:38<01:19,  7.54it/s]"
          ]
        },
        {
          "name": "stdout",
          "output_type": "stream",
          "text": [
            "Epoch 1, Batch 9400, Loss: 185.81320190429688\n"
          ]
        },
        {
          "name": "stderr",
          "output_type": "stream",
          "text": [
            " 95%|█████████▌| 9501/10000 [21:51<01:07,  7.41it/s]"
          ]
        },
        {
          "name": "stdout",
          "output_type": "stream",
          "text": [
            "Epoch 1, Batch 9500, Loss: 207.71923828125\n"
          ]
        },
        {
          "name": "stderr",
          "output_type": "stream",
          "text": [
            " 96%|█████████▌| 9601/10000 [22:06<00:55,  7.25it/s]"
          ]
        },
        {
          "name": "stdout",
          "output_type": "stream",
          "text": [
            "Epoch 1, Batch 9600, Loss: 180.416259765625\n"
          ]
        },
        {
          "name": "stderr",
          "output_type": "stream",
          "text": [
            " 97%|█████████▋| 9701/10000 [22:19<00:40,  7.38it/s]"
          ]
        },
        {
          "name": "stdout",
          "output_type": "stream",
          "text": [
            "Epoch 1, Batch 9700, Loss: 171.42706298828125\n"
          ]
        },
        {
          "name": "stderr",
          "output_type": "stream",
          "text": [
            " 98%|█████████▊| 9801/10000 [22:34<00:26,  7.44it/s]"
          ]
        },
        {
          "name": "stdout",
          "output_type": "stream",
          "text": [
            "Epoch 1, Batch 9800, Loss: 176.09640502929688\n"
          ]
        },
        {
          "name": "stderr",
          "output_type": "stream",
          "text": [
            " 99%|█████████▉| 9901/10000 [22:47<00:13,  7.41it/s]"
          ]
        },
        {
          "name": "stdout",
          "output_type": "stream",
          "text": [
            "Epoch 1, Batch 9900, Loss: 182.34439086914062\n"
          ]
        },
        {
          "name": "stderr",
          "output_type": "stream",
          "text": [
            "100%|██████████| 10000/10000 [23:01<00:00,  7.24it/s]\n"
          ]
        },
        {
          "name": "stdout",
          "output_type": "stream",
          "text": [
            "Epoch 1, Batch 10000, Loss: 183.20559692382812\n",
            "Epoch 1, Avg Loss: 218.0962, Time: 1381.76s\n",
            "Generated: The is sulding besecring to the stats of redicolems\n",
            "and trangner and stity the its preces of we fide st\n",
            "\n",
            "Saving...\n"
          ]
        }
      ],
      "source": [
        "start_time = time.time()\n",
        "from tqdm import tqdm\n",
        "\n",
        "all_losses = []\n",
        "\n",
        "torch.set_float32_matmul_precision(\"high\")\n",
        "torch.backends.cudnn.benchmark = True\n",
        "torch.backends.cuda.matmul.allow_tf32 = True\n",
        "\n",
        "for epoch in range(1, epochs+1):\n",
        "    total_loss = 0\n",
        "    for batch_idx, (inputs, targets) in tqdm(enumerate(loader), total=len(loader)):\n",
        "        inputs = inputs.squeeze(0).to(device)\n",
        "        targets = targets.squeeze(0).to(device)\n",
        "        \n",
        "        hidden = net.init_hidden().to(device)\n",
        "        optimizer.zero_grad()\n",
        "        loss = 0\n",
        "        \n",
        "        for t in range(inputs.size(0)):\n",
        "            with torch.autocast(device_type=\"cuda\"):\n",
        "                output, hidden = net(inputs[t], hidden)\n",
        "                loss += criterion(output, targets[t].unsqueeze(0))\n",
        "        \n",
        "        loss.backward()\n",
        "        optimizer.step()\n",
        "        total_loss += loss.item()\n",
        "    \n",
        "    avg_loss = total_loss / len(loader)\n",
        "    all_losses.append(avg_loss)\n",
        "    print(f'Epoch {epoch}, Avg Loss: {avg_loss:.4f}, Time: {time.time() - start_time:.2f}s')\n",
        "    \n",
        "    sample = generate(net, device, arxiv_dataset, prime_str='In this research ', temperature=0.8)\n",
        "    print(f'Generated: {sample}\\n')\n",
        "\n",
        "print(\"Saving...\")\n",
        "RNN.save_model(net, \"TrainedModel.ckpt\")"
      ]
    },
    {
      "cell_type": "code",
      "execution_count": 52,
      "metadata": {},
      "outputs": [
        {
          "data": {
            "text/plain": [
              "tensor(29, device='cuda:0')"
            ]
          },
          "execution_count": 52,
          "metadata": {},
          "output_type": "execute_result"
        }
      ],
      "source": [
        "inputs[0]"
      ]
    },
    {
      "cell_type": "code",
      "execution_count": null,
      "metadata": {
        "colab": {
          "base_uri": "https://localhost:8080/",
          "height": 34
        },
        "id": "FmnpaXXmd4ys",
        "outputId": "67a1aeb1-1e8b-4c37-f417-7e6827ccb2dd"
      },
      "outputs": [],
      "source": [
        "net(inputs[0].type(torch.float16), hidden)[0].shape"
      ]
    },
    {
      "cell_type": "code",
      "execution_count": null,
      "metadata": {
        "colab": {
          "base_uri": "https://localhost:8080/",
          "height": 34
        },
        "id": "spXEocSpeUl_",
        "outputId": "895ef4de-1cf6-4c67-9645-640097f68671"
      },
      "outputs": [
        {
          "data": {
            "text/plain": [
              "tensor(46, device='cuda:0')"
            ]
          },
          "execution_count": 30,
          "metadata": {
            "tags": []
          },
          "output_type": "execute_result"
        }
      ],
      "source": [
        "targets[0]"
      ]
    },
    {
      "cell_type": "code",
      "execution_count": 61,
      "metadata": {},
      "outputs": [
        {
          "data": {
            "text/plain": [
              "[218.0962288269043]"
            ]
          },
          "execution_count": 61,
          "metadata": {},
          "output_type": "execute_result"
        }
      ],
      "source": [
        "all_losses"
      ]
    },
    {
      "cell_type": "code",
      "execution_count": 60,
      "metadata": {
        "colab": {
          "base_uri": "https://localhost:8080/",
          "height": 282
        },
        "id": "TK02ZAsWan15",
        "outputId": "1ceceb05-8ecc-4a43-ccb4-0c4f7fb8aa07"
      },
      "outputs": [
        {
          "data": {
            "text/plain": [
              "[<matplotlib.lines.Line2D at 0x7f1d49c2e650>]"
            ]
          },
          "execution_count": 60,
          "metadata": {},
          "output_type": "execute_result"
        },
        {
          "data": {
            "image/png": "[encoded data removed]",
            "text/plain": [
              "<Figure size 640x480 with 1 Axes>"
            ]
          },
          "metadata": {},
          "output_type": "display_data"
        }
      ],
      "source": [
        "plt.figure()\n",
        "plt.plot(all_losses)"
      ]
    },
    {
      "cell_type": "markdown",
      "metadata": {
        "id": "DZ_g0iNran2A"
      },
      "source": [
        "## Результаты тренировки"
      ]
    },
    {
      "cell_type": "code",
      "execution_count": 59,
      "metadata": {
        "id": "KGgmnmQPan2B"
      },
      "outputs": [
        {
          "name": "stdout",
          "output_type": "stream",
          "text": [
            "In this research efficier is\n",
            "comblic the of pystatialy. Is model with suctiaccolives. This the soted apprisical has a realso and\n",
            "angores of-$p$ark and incalsod\n",
            "live exparticaly instrom lach the fremul to a reserarnorithen of the resurturidis deverimations efformal mocture and compousuarence GF the decontems as.\n",
            "The a for can an gse betwer amplodel ablic of repences recondems\n",
            "resulting trable boiltely of and a gra \n",
            "\n"
          ]
        }
      ],
      "source": [
        "print(generate(net, device, arxiv_dataset, 'In this research', 400), '\\n')"
      ]
    },
    {
      "cell_type": "code",
      "execution_count": null,
      "metadata": {
        "id": "gqk5li8han2M"
      },
      "outputs": [],
      "source": []
    },
    {
      "cell_type": "markdown",
      "metadata": {
        "id": "o7s73qNy5xEY"
      },
      "source": [
        "# Здесь должны быть эксперименты с архитектурой и параметрами сети"
      ]
    },
    {
      "cell_type": "code",
      "execution_count": null,
      "metadata": {
        "id": "ZS0qg5Ra54_X"
      },
      "outputs": [],
      "source": []
    },
    {
      "cell_type": "markdown",
      "metadata": {
        "id": "k4-MqjYH55pT"
      },
      "source": [
        "# Здесь будет работа с вашими датасетами (которые вы захотите использовать)"
      ]
    },
    {
      "cell_type": "code",
      "execution_count": null,
      "metadata": {
        "id": "eKxaIMDY6CMg"
      },
      "outputs": [],
      "source": []
    }
  ],
  "metadata": {
    "accelerator": "GPU",
    "colab": {
      "provenance": []
    },
    "kernelspec": {
      "display_name": ".venv",
      "language": "python",
      "name": "python3"
    },
    "language_info": {
      "codemirror_mode": {
        "name": "ipython",
        "version": 3
      },
      "file_extension": ".py",
      "mimetype": "text/x-python",
      "name": "python",
      "nbconvert_exporter": "python",
      "pygments_lexer": "ipython3",
      "version": "3.10.12"
    }
  },
  "nbformat": 4,
  "nbformat_minor": 0
}
