{
 "cells": [
  {
   "cell_type": "markdown",
   "metadata": {},
   "source": [
    "# Init Cell"
   ]
  },
  {
   "cell_type": "code",
   "execution_count": 3,
   "metadata": {},
   "outputs": [
    {
     "name": "stdout",
     "output_type": "stream",
     "text": [
      "🦥 Unsloth: Will patch your computer to enable 2x faster free finetuning.\n",
      "🦥 Unsloth Zoo will now patch everything to make training faster!\n",
      "INFO 02-15 11:08:21 __init__.py:190] Automatically detected platform cuda.\n",
      "==((====))==  Unsloth 2025.2.9: Fast Qwen2 patching. Transformers: 4.48.3.\n",
      "   \\\\   /|    GPU: NVIDIA GeForce RTX 4070 Ti. Max memory: 11.994 GB. Platform: Linux.\n",
      "O^O/ \\_/ \\    Torch: 2.5.1+cu124. CUDA: 8.9. CUDA Toolkit: 12.4. Triton: 3.1.0\n",
      "\\        /    Bfloat16 = TRUE. FA [Xformers = 0.0.28.post3. FA2 = True]\n",
      " \"-____-\"     Free Apache license: http://github.com/unslothai/unsloth\n",
      "Unsloth: Fast downloading is enabled - ignore downloading bars which are red colored!\n"
     ]
    }
   ],
   "source": [
    "from unsloth import FastLanguageModel # API для подгрузки модели\n",
    "\n",
    "# Параметры инициализации\n",
    "max_seq_length = 4096\n",
    "max_summary_length = 256\n",
    "dtype = None\n",
    "load_in_4bit = True\n",
    "\n",
    "# Создаём модель и токинайзер\n",
    "model, tokenizer = FastLanguageModel.from_pretrained(\n",
    "    model_name = \"unsloth/Qwen2.5-0.5B\",\n",
    "    attn_implementation = \"flash_attention_2\",\n",
    "    max_seq_length = max_seq_length,\n",
    "    dtype = dtype,\n",
    "    load_in_4bit = load_in_4bit\n",
    ")"
   ]
  },
  {
   "cell_type": "code",
   "execution_count": null,
   "metadata": {},
   "outputs": [
    {
     "name": "stderr",
     "output_type": "stream",
     "text": [
      "Unsloth 2025.2.9 patched 24 layers with 24 QKV layers, 24 O layers and 24 MLP layers.\n"
     ]
    }
   ],
   "source": [
    "# Оптимизируем модель через Lora\n",
    "model = FastLanguageModel.get_peft_model(\n",
    "    model,\n",
    "    r = 16,\n",
    "    target_modules = [\"q_proj\", \"k_proj\", \"v_proj\", \"o_proj\",\n",
    "                      \"gate_proj\", \"up_proj\", \"down_proj\"],\n",
    "    lora_alpha = 16,\n",
    "    lora_dropout = 0,\n",
    "    bias = \"none\",\n",
    "    use_gradient_checkpointing = \"unsloth\",\n",
    "    random_state = 3407,\n",
    "    use_rslora = False,\n",
    "    loftq_config = None\n",
    ")\n"
   ]
  },
  {
   "cell_type": "markdown",
   "metadata": {},
   "source": [
    "# Dataset processing"
   ]
  },
  {
   "cell_type": "code",
   "execution_count": 4,
   "metadata": {},
   "outputs": [],
   "source": [
    "# Базовый alpaca prompting для SFT\n",
    "alpaca_prompt = \"\"\"Ниже приведена инструкция, описывающая задание, в сочетании с вводными данными, которые обеспечивают дальнейший контекст. Напишите ответ, который соответствующим образом выполнит запрос.\n",
    "\n",
    "### Инструкция:\n",
    "{}\n",
    "\n",
    "### Вводные данные:\n",
    "{}\n",
    "\n",
    "### Ответ:\n",
    "{}\"\"\"\n",
    "\n",
    "# Функция перевода данных под промпт для модели на задачу \"Резюмирования текста\"\n",
    "EOS_TOKEN = tokenizer.eos_token # конечный токен у токенайзера Qwen\n",
    "def formatting_prompts_func(examples):\n",
    "    inputs = examples[\"input\"]\n",
    "    outputs = examples[\"output\"]\n",
    "    texts = []\n",
    "    # Создаём сэмпл по шаблонному промпту, в конце добавляем токен остановки\n",
    "    for input, output in zip(inputs, outputs):\n",
    "        text = alpaca_prompt.format(\"Резюмируй текст, сохрани важную информацию о нём в кратком объёме.\", input, output) + EOS_TOKEN\n",
    "        texts.append(text)\n",
    "    return {\"text\": texts}"
   ]
  },
  {
   "cell_type": "code",
   "execution_count": 5,
   "metadata": {},
   "outputs": [],
   "source": [
    "from datasets import load_dataset, concatenate_datasets # работа с датасетами HF\n",
    "\n",
    "# Функция подготовки датасетов\n",
    "def prepare_sets(ds_repo: str, name: str, revision: str, split: str):\n",
    "    ds = load_dataset(ds_repo, name=name, revision=revision, split=split) # загрузка с сервера\n",
    "    ds = ds.remove_columns([x for x in ds.column_names if x not in ('text', 'summary')]) # удаление лишних столбцов\n",
    "    ds = ds.rename_columns({\"text\": \"input\", \"summary\": \"output\"})  # переименовываем столбцы под общий формат\n",
    "\n",
    "    # Фильтруем данные по:\n",
    "    ds = ds.filter(\n",
    "        lambda x: \n",
    "            len(x[\"input\"]) >= 512 and # 1) длина исходного текста >= 512 символов\n",
    "            len(x[\"input\"]) <= max_seq_length and  # 2) длина исходного текста <= 4096\n",
    "            len(x[\"output\"]) >= 20 and # 3) Резюмированный текст >= 20 символов\n",
    "            len(x['output']) <= max_summary_length and  # 4) Резюмированный текст <= 128 символов\n",
    "            len(x[\"output\"])/len(x[\"input\"]) < 0.3  # 5) Соотношение объёмов 2-х текстов <= 0.3\n",
    "    )\n",
    "\n",
    "    if split == 'test': # при тестовой выборке просто возвращаем датасет\n",
    "        return ds\n",
    "    \n",
    "    ds = ds.map(formatting_prompts_func, batched=True) # в ином случае формируем промпт\n",
    "\n",
    "    # Фильтруем данные, чтобы длина промпта <= 4096 символов\n",
    "    ds = ds.filter(\n",
    "        lambda x: len(x[\"text\"]) <= max_seq_length,\n",
    "    )\n",
    "    return ds"
   ]
  },
  {
   "cell_type": "code",
   "execution_count": 6,
   "metadata": {},
   "outputs": [
    {
     "data": {
      "application/vnd.jupyter.widget-view+json": {
       "model_id": "17f8a4efbe7c4ab28bad4d5d379026b4",
       "version_major": 2,
       "version_minor": 0
      },
      "text/plain": [
       "Filter:   0%|          | 0/60964 [00:00<?, ? examples/s]"
      ]
     },
     "metadata": {},
     "output_type": "display_data"
    },
    {
     "data": {
      "application/vnd.jupyter.widget-view+json": {
       "model_id": "71589e0ebb354c90bf8fafde3b7a26cd",
       "version_major": 2,
       "version_minor": 0
      },
      "text/plain": [
       "Map:   0%|          | 0/9662 [00:00<?, ? examples/s]"
      ]
     },
     "metadata": {},
     "output_type": "display_data"
    },
    {
     "data": {
      "application/vnd.jupyter.widget-view+json": {
       "model_id": "913ea06636484d4f802865e8734a5692",
       "version_major": 2,
       "version_minor": 0
      },
      "text/plain": [
       "Filter:   0%|          | 0/9662 [00:00<?, ? examples/s]"
      ]
     },
     "metadata": {},
     "output_type": "display_data"
    },
    {
     "data": {
      "application/vnd.jupyter.widget-view+json": {
       "model_id": "5384c746d41a4efd847bbf1694e0d94a",
       "version_major": 2,
       "version_minor": 0
      },
      "text/plain": [
       "Filter:   0%|          | 0/6369 [00:00<?, ? examples/s]"
      ]
     },
     "metadata": {},
     "output_type": "display_data"
    },
    {
     "data": {
      "application/vnd.jupyter.widget-view+json": {
       "model_id": "c8db0995114e4a9fb4b557114e671c5f",
       "version_major": 2,
       "version_minor": 0
      },
      "text/plain": [
       "Map:   0%|          | 0/678 [00:00<?, ? examples/s]"
      ]
     },
     "metadata": {},
     "output_type": "display_data"
    },
    {
     "data": {
      "application/vnd.jupyter.widget-view+json": {
       "model_id": "b5ef9fde600e4893acf4afade86c6876",
       "version_major": 2,
       "version_minor": 0
      },
      "text/plain": [
       "Filter:   0%|          | 0/678 [00:00<?, ? examples/s]"
      ]
     },
     "metadata": {},
     "output_type": "display_data"
    },
    {
     "data": {
      "application/vnd.jupyter.widget-view+json": {
       "model_id": "782d8fa8a2a3429eb3746e3c2fb9ce4d",
       "version_major": 2,
       "version_minor": 0
      },
      "text/plain": [
       "Filter:   0%|          | 0/62243 [00:00<?, ? examples/s]"
      ]
     },
     "metadata": {},
     "output_type": "display_data"
    },
    {
     "data": {
      "application/vnd.jupyter.widget-view+json": {
       "model_id": "5420a1e56c834a36a891d881a37cfa1b",
       "version_major": 2,
       "version_minor": 0
      },
      "text/plain": [
       "Map:   0%|          | 0/30641 [00:00<?, ? examples/s]"
      ]
     },
     "metadata": {},
     "output_type": "display_data"
    },
    {
     "data": {
      "application/vnd.jupyter.widget-view+json": {
       "model_id": "2e539657f0a94e64ad124536100d2a4e",
       "version_major": 2,
       "version_minor": 0
      },
      "text/plain": [
       "Filter:   0%|          | 0/30641 [00:00<?, ? examples/s]"
      ]
     },
     "metadata": {},
     "output_type": "display_data"
    },
    {
     "data": {
      "application/vnd.jupyter.widget-view+json": {
       "model_id": "f88cb0dea04d46729bae51498f1bb441",
       "version_major": 2,
       "version_minor": 0
      },
      "text/plain": [
       "Filter:   0%|          | 0/7780 [00:00<?, ? examples/s]"
      ]
     },
     "metadata": {},
     "output_type": "display_data"
    },
    {
     "data": {
      "application/vnd.jupyter.widget-view+json": {
       "model_id": "404f26203e394741a1073e1b0982fc84",
       "version_major": 2,
       "version_minor": 0
      },
      "text/plain": [
       "Map:   0%|          | 0/4920 [00:00<?, ? examples/s]"
      ]
     },
     "metadata": {},
     "output_type": "display_data"
    },
    {
     "data": {
      "application/vnd.jupyter.widget-view+json": {
       "model_id": "ede9904fd66e451190bb155a394bde35",
       "version_major": 2,
       "version_minor": 0
      },
      "text/plain": [
       "Filter:   0%|          | 0/4920 [00:00<?, ? examples/s]"
      ]
     },
     "metadata": {},
     "output_type": "display_data"
    },
    {
     "data": {
      "application/vnd.jupyter.widget-view+json": {
       "model_id": "408cbdbd8b844586956fffa68f235fa0",
       "version_major": 2,
       "version_minor": 0
      },
      "text/plain": [
       "Filter:   0%|          | 0/6793 [00:00<?, ? examples/s]"
      ]
     },
     "metadata": {},
     "output_type": "display_data"
    },
    {
     "data": {
      "application/vnd.jupyter.widget-view+json": {
       "model_id": "d7ef56613b3645ec9adf93f3b22ee56b",
       "version_major": 2,
       "version_minor": 0
      },
      "text/plain": [
       "Filter:   0%|          | 0/7780 [00:00<?, ? examples/s]"
      ]
     },
     "metadata": {},
     "output_type": "display_data"
    }
   ],
   "source": [
    "train_dataset = concatenate_datasets(\n",
    "    [\n",
    "        prepare_sets(ds_repo='IlyaGusev/gazeta', name=None, revision=\"v2.0\", split='train'), \n",
    "        prepare_sets(ds_repo='IlyaGusev/gazeta', name=None, revision=\"v2.0\", split='validation'),\n",
    "        prepare_sets(ds_repo='csebuetnlp/xlsum', name='russian', revision=None, split='train'),\n",
    "        prepare_sets(ds_repo='csebuetnlp/xlsum', name='russian', revision=None, split='validation')\n",
    "    ]\n",
    ")\n",
    "test_dataset = concatenate_datasets(\n",
    "    [\n",
    "        prepare_sets(ds_repo='IlyaGusev/gazeta', name=None, revision=\"v2.0\", split='test'),\n",
    "        prepare_sets(ds_repo='csebuetnlp/xlsum', name='russian', revision=None, split='test')\n",
    "    ]\n",
    ")"
   ]
  },
  {
   "cell_type": "code",
   "execution_count": 7,
   "metadata": {},
   "outputs": [
    {
     "data": {
      "text/plain": [
       "(Dataset({\n",
       "     features: ['input', 'output', 'text'],\n",
       "     num_rows: 38413\n",
       " }),\n",
       " Dataset({\n",
       "     features: ['input', 'output'],\n",
       "     num_rows: 5520\n",
       " }))"
      ]
     },
     "execution_count": 7,
     "metadata": {},
     "output_type": "execute_result"
    }
   ],
   "source": [
    "# Взгляем на объём датасетов\n",
    "train_dataset, test_dataset"
   ]
  },
  {
   "cell_type": "code",
   "execution_count": 8,
   "metadata": {},
   "outputs": [
    {
     "data": {
      "text/plain": [
       "'В Екатеринбурге на 82-м году жизни скончался советский и российский детский писатель Владислав Крапивин. Об этом сообщили представители Минздрава региона. «Да. Сегодня», — цитирует пресс-службу Минздрава РИА «Новости». Согласно невестке Крапивина Ларисе, писатель умер утром 1 сентября по местному времени. «Умер в 06:40. Ему стало хуже, ночью отвезли в реанимацию — и все», — передает ее слова ТАСС. Ранее Лариса в своем Facebook рассказывала, что Крапивин был госпитализирован 15 июля. Как тогда подчеркивала родственница, решение об отправке писателя в госпиталь было принято на фоне того, что он «внезапно упал утром, встав с кровати». «Он был в сознании, хотя и плохо разговаривал. И было ощущение, что это инсульт. Была срочно вызвана скорая помощь. [В больнице ему] сделали КТ головного мозга и легких, кардиограмму и анализ крови, семье было сказано, что инсульта и инфаркта нет, но есть подозрение на COVID, потому что КТ легких показала наличие пневмонии с 25% поражения», — подчеркнула невестка автора. Она также отметила, что Крапивин, тесты которого на коронавирус изначально были отрицательными, некоторое время провел в COVID-отделении. Кроме того, женщина выразила мнение, что врачи «просмотрели [у писателя] инсульт, который, видимо, все-таки случился». Согласно родственнице, знаменитый автор был выписан из больницы 7 августа, при этом его состояние было «намного хуже, чем три недели назад». «Он практически вообще не может двигаться. У него на ноге огромная гематома — и вся нога синяя. В районе паха большая шишка. На спине пролежни. Все это вызывает адскую боль и мучения. Он все время просит пить. Ест с большим трудом, потому что идет рвота. С нами общается, но больше спит», — делилась Лариса 9 августа. Уже на следующий день писатель был вновь госпитализирован. А 12 августа Крапивину была проведена операция: «Говорят, что из ноги хирурги откачали 1,5 литра нехорошей скопившейся жидкости». Впоследствии Лариса писала, что после краткосрочного ухудшения состояния Крапивин почувствовал себя лучше. Вместе с тем 31 августа женщина, ссылаясь на врачей, заявила Ura.Ru , что писатель все же переболел коронавирусом, который и «спровоцировал осложнение всех старых болячек, включая диабет, сердце и инсульты». По информации источника, причиной смерти автора стало обострение хронических болезней на фоне COVID-19. Соболезнования в связи с кончиной писателя выразил губернатор Свердловской области Евгений Куйвашев. «Это тяжелая, скорбная, невосполнимая утрата для всех нас. Владислав Крапивин широко известен как автор замечательных произведений для детей и юношества. Почти в каждой российской семье есть книги Владислава Петровича, утверждающие идеалы добра и справедливости, проникнутые духом романтизма и приключений, поднимающие важнейшие жизненные и нравственные проблемы, — говорится в сообщении на портале губернатора. — Владислава Петровича Крапивина всегда будут помнить, как невероятно талантливого, честного, неравнодушного ко всякой несправедливости человека. Им восхищались, ему верили, его уважали и любили». Владислав Крапивин родился 14 октября 1938 года в Тюмени. На его счету такие произведения, как «Мальчик со шпагой», «Журавленок и молнии», «Трое с площади Карронад», «Колыбельная для брата» и «Болтик», работы автора также неоднократно экранизировались. Помимо литературной деятельности, Крапивин известен как педагог: в начале 1960-х он организовал в Свердловске детский отряд «Каравелла», которым впоследствии руководил несколько десятилетий.'"
      ]
     },
     "execution_count": 8,
     "metadata": {},
     "output_type": "execute_result"
    }
   ],
   "source": [
    "test_dataset['input'][0]"
   ]
  },
  {
   "cell_type": "markdown",
   "metadata": {},
   "source": [
    "# SFT"
   ]
  },
  {
   "cell_type": "code",
   "execution_count": null,
   "metadata": {},
   "outputs": [],
   "source": [
    "from trl import SFTTrainer, SFTConfig\n",
    "from unsloth import is_bfloat16_supported\n",
    "\n",
    "trainer = SFTTrainer(\n",
    "    model = model,\n",
    "    tokenizer = tokenizer,\n",
    "    train_dataset = train_dataset,\n",
    "    max_seq_length = max_seq_length,\n",
    "    args = SFTConfig(\n",
    "        dataset_text_field = \"text\",\n",
    "        overwrite_output_dir = True,\n",
    "        num_train_epochs = 3,\n",
    "        per_device_train_batch_size = 32,\n",
    "        gradient_accumulation_steps = 4,\n",
    "        learning_rate = 3e-4,\n",
    "        logging_steps = 10,\n",
    "        \n",
    "        warmup_ratio = 0.1,\n",
    "        lr_scheduler_type = \"linear\",\n",
    "        optim = \"adamw_torch_fused\",\n",
    "        weight_decay = 0.01,\n",
    "        max_grad_norm = 0.8,\n",
    "        \n",
    "        fp16 = not is_bfloat16_supported(),\n",
    "        bf16 = is_bfloat16_supported(),\n",
    "        \n",
    "        seed = 3407,\n",
    "        output_dir = \"outputs\",\n",
    "        report_to = \"none\",\n",
    "        save_steps=200,\n",
    "        torch_compile=True,\n",
    "        gradient_checkpointing=True\n",
    "    )\n",
    ")"
   ]
  },
  {
   "cell_type": "code",
   "execution_count": 9,
   "metadata": {},
   "outputs": [
    {
     "name": "stdout",
     "output_type": "stream",
     "text": [
      "GPU = NVIDIA GeForce RTX 4070 Ti. Max memory = 11.994 GB.\n",
      "0.547 GB of memory reserved.\n"
     ]
    }
   ],
   "source": [
    "import torch\n",
    "gpu_stats = torch.cuda.get_device_properties(0)\n",
    "start_gpu_memory = round(torch.cuda.max_memory_reserved() / 1024 / 1024 / 1024, 3)\n",
    "max_memory = round(gpu_stats.total_memory / 1024 / 1024 / 1024, 3)\n",
    "print(f\"GPU = {gpu_stats.name}. Max memory = {max_memory} GB.\")\n",
    "print(f\"{start_gpu_memory} GB of memory reserved.\")"
   ]
  },
  {
   "cell_type": "code",
   "execution_count": 10,
   "metadata": {},
   "outputs": [
    {
     "name": "stderr",
     "output_type": "stream",
     "text": [
      "==((====))==  Unsloth - 2x faster free finetuning | Num GPUs = 1\n",
      "   \\\\   /|    Num examples = 38,413 | Num Epochs = 3\n",
      "O^O/ \\_/ \\    Batch size per device = 32 | Gradient Accumulation steps = 4\n",
      "\\        /    Total batch size = 128 | Total steps = 900\n",
      " \"-____-\"     Number of trainable parameters = 8,798,208\n"
     ]
    },
    {
     "name": "stdout",
     "output_type": "stream",
     "text": [
      "Unsloth: Enabled auto compiling\n"
     ]
    },
    {
     "data": {
      "text/html": [
       "\n",
       "    <div>\n",
       "      \n",
       "      <progress value='900' max='900' style='width:300px; height:20px; vertical-align: middle;'></progress>\n",
       "      [900/900 3:34:59, Epoch 2/3]\n",
       "    </div>\n",
       "    <table border=\"1\" class=\"dataframe\">\n",
       "  <thead>\n",
       " <tr style=\"text-align: left;\">\n",
       "      <th>Step</th>\n",
       "      <th>Training Loss</th>\n",
       "    </tr>\n",
       "  </thead>\n",
       "  <tbody>\n",
       "    <tr>\n",
       "      <td>10</td>\n",
       "      <td>2.283700</td>\n",
       "    </tr>\n",
       "    <tr>\n",
       "      <td>20</td>\n",
       "      <td>2.182700</td>\n",
       "    </tr>\n",
       "    <tr>\n",
       "      <td>30</td>\n",
       "      <td>2.034600</td>\n",
       "    </tr>\n",
       "    <tr>\n",
       "      <td>40</td>\n",
       "      <td>1.943700</td>\n",
       "    </tr>\n",
       "    <tr>\n",
       "      <td>50</td>\n",
       "      <td>1.907900</td>\n",
       "    </tr>\n",
       "    <tr>\n",
       "      <td>60</td>\n",
       "      <td>1.893700</td>\n",
       "    </tr>\n",
       "    <tr>\n",
       "      <td>70</td>\n",
       "      <td>1.868600</td>\n",
       "    </tr>\n",
       "    <tr>\n",
       "      <td>80</td>\n",
       "      <td>1.863900</td>\n",
       "    </tr>\n",
       "    <tr>\n",
       "      <td>90</td>\n",
       "      <td>1.855300</td>\n",
       "    </tr>\n",
       "    <tr>\n",
       "      <td>100</td>\n",
       "      <td>1.835100</td>\n",
       "    </tr>\n",
       "    <tr>\n",
       "      <td>110</td>\n",
       "      <td>1.845600</td>\n",
       "    </tr>\n",
       "    <tr>\n",
       "      <td>120</td>\n",
       "      <td>1.839900</td>\n",
       "    </tr>\n",
       "    <tr>\n",
       "      <td>130</td>\n",
       "      <td>1.819500</td>\n",
       "    </tr>\n",
       "    <tr>\n",
       "      <td>140</td>\n",
       "      <td>1.829300</td>\n",
       "    </tr>\n",
       "    <tr>\n",
       "      <td>150</td>\n",
       "      <td>1.811900</td>\n",
       "    </tr>\n",
       "    <tr>\n",
       "      <td>160</td>\n",
       "      <td>1.807800</td>\n",
       "    </tr>\n",
       "    <tr>\n",
       "      <td>170</td>\n",
       "      <td>1.822600</td>\n",
       "    </tr>\n",
       "    <tr>\n",
       "      <td>180</td>\n",
       "      <td>1.817900</td>\n",
       "    </tr>\n",
       "    <tr>\n",
       "      <td>190</td>\n",
       "      <td>1.800700</td>\n",
       "    </tr>\n",
       "    <tr>\n",
       "      <td>200</td>\n",
       "      <td>1.791300</td>\n",
       "    </tr>\n",
       "    <tr>\n",
       "      <td>210</td>\n",
       "      <td>1.794600</td>\n",
       "    </tr>\n",
       "    <tr>\n",
       "      <td>220</td>\n",
       "      <td>1.788100</td>\n",
       "    </tr>\n",
       "    <tr>\n",
       "      <td>230</td>\n",
       "      <td>1.774600</td>\n",
       "    </tr>\n",
       "    <tr>\n",
       "      <td>240</td>\n",
       "      <td>1.787900</td>\n",
       "    </tr>\n",
       "    <tr>\n",
       "      <td>250</td>\n",
       "      <td>1.785900</td>\n",
       "    </tr>\n",
       "    <tr>\n",
       "      <td>260</td>\n",
       "      <td>1.773800</td>\n",
       "    </tr>\n",
       "    <tr>\n",
       "      <td>270</td>\n",
       "      <td>1.774300</td>\n",
       "    </tr>\n",
       "    <tr>\n",
       "      <td>280</td>\n",
       "      <td>1.757100</td>\n",
       "    </tr>\n",
       "    <tr>\n",
       "      <td>290</td>\n",
       "      <td>1.775100</td>\n",
       "    </tr>\n",
       "    <tr>\n",
       "      <td>300</td>\n",
       "      <td>1.767600</td>\n",
       "    </tr>\n",
       "    <tr>\n",
       "      <td>310</td>\n",
       "      <td>1.744900</td>\n",
       "    </tr>\n",
       "    <tr>\n",
       "      <td>320</td>\n",
       "      <td>1.746000</td>\n",
       "    </tr>\n",
       "    <tr>\n",
       "      <td>330</td>\n",
       "      <td>1.749100</td>\n",
       "    </tr>\n",
       "    <tr>\n",
       "      <td>340</td>\n",
       "      <td>1.738700</td>\n",
       "    </tr>\n",
       "    <tr>\n",
       "      <td>350</td>\n",
       "      <td>1.744400</td>\n",
       "    </tr>\n",
       "    <tr>\n",
       "      <td>360</td>\n",
       "      <td>1.739400</td>\n",
       "    </tr>\n",
       "    <tr>\n",
       "      <td>370</td>\n",
       "      <td>1.743300</td>\n",
       "    </tr>\n",
       "    <tr>\n",
       "      <td>380</td>\n",
       "      <td>1.731100</td>\n",
       "    </tr>\n",
       "    <tr>\n",
       "      <td>390</td>\n",
       "      <td>1.728300</td>\n",
       "    </tr>\n",
       "    <tr>\n",
       "      <td>400</td>\n",
       "      <td>1.734100</td>\n",
       "    </tr>\n",
       "    <tr>\n",
       "      <td>410</td>\n",
       "      <td>1.732500</td>\n",
       "    </tr>\n",
       "    <tr>\n",
       "      <td>420</td>\n",
       "      <td>1.735800</td>\n",
       "    </tr>\n",
       "    <tr>\n",
       "      <td>430</td>\n",
       "      <td>1.723600</td>\n",
       "    </tr>\n",
       "    <tr>\n",
       "      <td>440</td>\n",
       "      <td>1.729300</td>\n",
       "    </tr>\n",
       "    <tr>\n",
       "      <td>450</td>\n",
       "      <td>1.720800</td>\n",
       "    </tr>\n",
       "    <tr>\n",
       "      <td>460</td>\n",
       "      <td>1.721000</td>\n",
       "    </tr>\n",
       "    <tr>\n",
       "      <td>470</td>\n",
       "      <td>1.705600</td>\n",
       "    </tr>\n",
       "    <tr>\n",
       "      <td>480</td>\n",
       "      <td>1.717700</td>\n",
       "    </tr>\n",
       "    <tr>\n",
       "      <td>490</td>\n",
       "      <td>1.725200</td>\n",
       "    </tr>\n",
       "    <tr>\n",
       "      <td>500</td>\n",
       "      <td>1.720100</td>\n",
       "    </tr>\n",
       "    <tr>\n",
       "      <td>510</td>\n",
       "      <td>1.706800</td>\n",
       "    </tr>\n",
       "    <tr>\n",
       "      <td>520</td>\n",
       "      <td>1.723900</td>\n",
       "    </tr>\n",
       "    <tr>\n",
       "      <td>530</td>\n",
       "      <td>1.704600</td>\n",
       "    </tr>\n",
       "    <tr>\n",
       "      <td>540</td>\n",
       "      <td>1.693400</td>\n",
       "    </tr>\n",
       "    <tr>\n",
       "      <td>550</td>\n",
       "      <td>1.714900</td>\n",
       "    </tr>\n",
       "    <tr>\n",
       "      <td>560</td>\n",
       "      <td>1.699700</td>\n",
       "    </tr>\n",
       "    <tr>\n",
       "      <td>570</td>\n",
       "      <td>1.712500</td>\n",
       "    </tr>\n",
       "    <tr>\n",
       "      <td>580</td>\n",
       "      <td>1.714900</td>\n",
       "    </tr>\n",
       "    <tr>\n",
       "      <td>590</td>\n",
       "      <td>1.708500</td>\n",
       "    </tr>\n",
       "    <tr>\n",
       "      <td>600</td>\n",
       "      <td>1.686600</td>\n",
       "    </tr>\n",
       "    <tr>\n",
       "      <td>610</td>\n",
       "      <td>1.691500</td>\n",
       "    </tr>\n",
       "    <tr>\n",
       "      <td>620</td>\n",
       "      <td>1.688700</td>\n",
       "    </tr>\n",
       "    <tr>\n",
       "      <td>630</td>\n",
       "      <td>1.674400</td>\n",
       "    </tr>\n",
       "    <tr>\n",
       "      <td>640</td>\n",
       "      <td>1.688600</td>\n",
       "    </tr>\n",
       "    <tr>\n",
       "      <td>650</td>\n",
       "      <td>1.688700</td>\n",
       "    </tr>\n",
       "    <tr>\n",
       "      <td>660</td>\n",
       "      <td>1.683100</td>\n",
       "    </tr>\n",
       "    <tr>\n",
       "      <td>670</td>\n",
       "      <td>1.681600</td>\n",
       "    </tr>\n",
       "    <tr>\n",
       "      <td>680</td>\n",
       "      <td>1.667300</td>\n",
       "    </tr>\n",
       "    <tr>\n",
       "      <td>690</td>\n",
       "      <td>1.679100</td>\n",
       "    </tr>\n",
       "    <tr>\n",
       "      <td>700</td>\n",
       "      <td>1.675300</td>\n",
       "    </tr>\n",
       "    <tr>\n",
       "      <td>710</td>\n",
       "      <td>1.684800</td>\n",
       "    </tr>\n",
       "    <tr>\n",
       "      <td>720</td>\n",
       "      <td>1.680000</td>\n",
       "    </tr>\n",
       "    <tr>\n",
       "      <td>730</td>\n",
       "      <td>1.679400</td>\n",
       "    </tr>\n",
       "    <tr>\n",
       "      <td>740</td>\n",
       "      <td>1.682000</td>\n",
       "    </tr>\n",
       "    <tr>\n",
       "      <td>750</td>\n",
       "      <td>1.678500</td>\n",
       "    </tr>\n",
       "    <tr>\n",
       "      <td>760</td>\n",
       "      <td>1.683300</td>\n",
       "    </tr>\n",
       "    <tr>\n",
       "      <td>770</td>\n",
       "      <td>1.681900</td>\n",
       "    </tr>\n",
       "    <tr>\n",
       "      <td>780</td>\n",
       "      <td>1.676200</td>\n",
       "    </tr>\n",
       "    <tr>\n",
       "      <td>790</td>\n",
       "      <td>1.669600</td>\n",
       "    </tr>\n",
       "    <tr>\n",
       "      <td>800</td>\n",
       "      <td>1.673100</td>\n",
       "    </tr>\n",
       "    <tr>\n",
       "      <td>810</td>\n",
       "      <td>1.690000</td>\n",
       "    </tr>\n",
       "    <tr>\n",
       "      <td>820</td>\n",
       "      <td>1.670500</td>\n",
       "    </tr>\n",
       "    <tr>\n",
       "      <td>830</td>\n",
       "      <td>1.680100</td>\n",
       "    </tr>\n",
       "    <tr>\n",
       "      <td>840</td>\n",
       "      <td>1.664900</td>\n",
       "    </tr>\n",
       "    <tr>\n",
       "      <td>850</td>\n",
       "      <td>1.673700</td>\n",
       "    </tr>\n",
       "    <tr>\n",
       "      <td>860</td>\n",
       "      <td>1.661400</td>\n",
       "    </tr>\n",
       "    <tr>\n",
       "      <td>870</td>\n",
       "      <td>1.678800</td>\n",
       "    </tr>\n",
       "    <tr>\n",
       "      <td>880</td>\n",
       "      <td>1.657500</td>\n",
       "    </tr>\n",
       "    <tr>\n",
       "      <td>890</td>\n",
       "      <td>1.669200</td>\n",
       "    </tr>\n",
       "    <tr>\n",
       "      <td>900</td>\n",
       "      <td>1.673200</td>\n",
       "    </tr>\n",
       "  </tbody>\n",
       "</table><p>"
      ],
      "text/plain": [
       "<IPython.core.display.HTML object>"
      ]
     },
     "metadata": {},
     "output_type": "display_data"
    }
   ],
   "source": [
    "trainer_stats = trainer.train()"
   ]
  },
  {
   "cell_type": "code",
   "execution_count": null,
   "metadata": {},
   "outputs": [
    {
     "data": {
      "text/plain": [
       "('qwen2_5_lora_sft_model/tokenizer_config.json',\n",
       " 'qwen2_5_lora_sft_model/special_tokens_map.json',\n",
       " 'qwen2_5_lora_sft_model/vocab.json',\n",
       " 'qwen2_5_lora_sft_model/merges.txt',\n",
       " 'qwen2_5_lora_sft_model/added_tokens.json',\n",
       " 'qwen2_5_lora_sft_model/tokenizer.json')"
      ]
     },
     "execution_count": 26,
     "metadata": {},
     "output_type": "execute_result"
    }
   ],
   "source": [
    "# Сохраняем модель и токенайзер\n",
    "model.save_pretrained(\"qwen2_5_lora_sft_model\")\n",
    "tokenizer.save_pretrained(\"qwen2_5_lora_sft_model\")"
   ]
  },
  {
   "cell_type": "code",
   "execution_count": null,
   "metadata": {},
   "outputs": [
    {
     "name": "stdout",
     "output_type": "stream",
     "text": [
      "12916.6526 seconds used for training.\n",
      "215.28 minutes used for training.\n",
      "Peak reserved memory = 4.072 GB.\n",
      "Peak reserved memory for training = 3.525 GB.\n",
      "Peak reserved memory % of max memory = 33.95 %.\n",
      "Peak reserved memory for training % of max memory = 29.39 %.\n"
     ]
    }
   ],
   "source": [
    "used_memory = round(torch.cuda.max_memory_reserved() / 1024 / 1024 / 1024, 3)\n",
    "used_memory_for_lora = round(used_memory - start_gpu_memory, 3)\n",
    "used_percentage = round(used_memory / max_memory * 100, 3)\n",
    "lora_percentage = round(used_memory_for_lora / max_memory*100, 3)\n",
    "\n",
    "\n",
    "print(f\"{trainer_stats.metrics['train_runtime']} seconds used for training.\")\n",
    "print(f\"{round(trainer_stats.metrics['train_runtime']/60, 2)} minutes used for training.\")\n",
    "print(f\"Peak reserved memory = {used_memory} GB.\")\n",
    "print(f\"Peak reserved memory for training = {used_memory_for_lora} GB.\")\n",
    "print(f\"Peak reserved memory % of max memory = {used_percentage} %.\")\n",
    "print(f\"Peak reserved memory for training % of max memory = {lora_percentage} %.\")"
   ]
  },
  {
   "cell_type": "markdown",
   "metadata": {},
   "source": [
    "# Inference cell"
   ]
  },
  {
   "cell_type": "code",
   "execution_count": null,
   "metadata": {},
   "outputs": [],
   "source": [
    "def inference(input_txt: str, _model, _tokenizer):\n",
    "    _model = FastLanguageModel.for_inference(_model)\n",
    "    # Токенизируем батч длинной 1 из формированного промпта при обучении, \"Ответ: \" оставляем пустым для генерашки\n",
    "    inputs = _tokenizer(\n",
    "    [\n",
    "        alpaca_prompt.format(\n",
    "            \"Резюмируй текст, сохрани важную информацию о нём в кратком объёме.\",\n",
    "            input_txt,\n",
    "            \"\",\n",
    "        )\n",
    "    ], return_tensors = \"pt\").to(\"cuda\")\n",
    "\n",
    "    # Генерим выхлоп модели и возвращаем декодированное сообщение. Не забываем делать split, чтобы не выводить весь промпт\n",
    "    outputs = _model.generate(input_ids = inputs.input_ids, attention_mask = inputs.attention_mask,\n",
    "                            max_new_tokens=max_summary_length, use_cache=True)\n",
    "    return _tokenizer.batch_decode(outputs, skip_special_tokens=True)[0].split(\"### Ответ:\\n\")[-1]"
   ]
  },
  {
   "cell_type": "code",
   "execution_count": null,
   "metadata": {},
   "outputs": [
    {
     "name": "stdout",
     "output_type": "stream",
     "text": [
      "==((====))==  Unsloth 2025.2.9: Fast Qwen2 patching. Transformers: 4.48.3.\n",
      "   \\\\   /|    GPU: NVIDIA GeForce RTX 4070 Ti. Max memory: 11.994 GB. Platform: Linux.\n",
      "O^O/ \\_/ \\    Torch: 2.5.1+cu124. CUDA: 8.9. CUDA Toolkit: 12.4. Triton: 3.1.0\n",
      "\\        /    Bfloat16 = TRUE. FA [Xformers = 0.0.28.post3. FA2 = True]\n",
      " \"-____-\"     Free Apache license: http://github.com/unslothai/unsloth\n",
      "Unsloth: Fast downloading is enabled - ignore downloading bars which are red colored!\n",
      "==((====))==  Unsloth 2025.2.9: Fast Qwen2 patching. Transformers: 4.48.3.\n",
      "   \\\\   /|    GPU: NVIDIA GeForce RTX 4070 Ti. Max memory: 11.994 GB. Platform: Linux.\n",
      "O^O/ \\_/ \\    Torch: 2.5.1+cu124. CUDA: 8.9. CUDA Toolkit: 12.4. Triton: 3.1.0\n",
      "\\        /    Bfloat16 = TRUE. FA [Xformers = 0.0.28.post3. FA2 = True]\n",
      " \"-____-\"     Free Apache license: http://github.com/unslothai/unsloth\n",
      "Unsloth: Fast downloading is enabled - ignore downloading bars which are red colored!\n"
     ]
    }
   ],
   "source": [
    "# Грузим базовую предобученную модель для теста\n",
    "model_base, tokenizer_base = FastLanguageModel.from_pretrained(\n",
    "    model_name = \"unsloth/Qwen2.5-0.5B\",\n",
    "    attn_implementation = \"flash_attention_2\",\n",
    "    max_seq_length = max_seq_length,\n",
    "    dtype = dtype,\n",
    "    load_in_4bit = load_in_4bit\n",
    ")\n",
    "\n",
    "# Грузим SFT модель для теста\n",
    "model_sft, tokenizer_sft = FastLanguageModel.from_pretrained(\n",
    "    model_name = \"qwen2_5_lora_sft_model\",\n",
    "    attn_implementation = \"flash_attention_2\",\n",
    "    max_seq_length = max_seq_length,\n",
    "    dtype = dtype,\n",
    "    load_in_4bit = load_in_4bit\n",
    ")"
   ]
  },
  {
   "cell_type": "markdown",
   "metadata": {},
   "source": [
    "# Test time"
   ]
  },
  {
   "cell_type": "code",
   "execution_count": null,
   "metadata": {},
   "outputs": [
    {
     "name": "stdout",
     "output_type": "stream",
     "text": [
      "--------------------------------------------------\n",
      "SFT model: \n",
      "--------------------------------------------------\n",
      "('Полиция Украины задержала политика Михаила Саакашвили, которого обвиняют в '\n",
      " 'содействии преступным организациям и посягательстве на территориальную '\n",
      " 'целостность Украины.')\n",
      "--------------------------------------------------\n",
      "Base model: \n",
      "--------------------------------------------------\n",
      "('После задержания политика Саакашвили в киевском ресторане \"Сулугуни\" был '\n",
      " 'задержан и отправлен в бус, затем повезли и затем посадили в вертолет. '\n",
      " 'Вертолет, как я понимаю, некоторое время кружил над Киевом. После чего '\n",
      " 'приземлился в Борисполе, где меня, скрутив руки и с применением грубой силы, '\n",
      " 'посадили в самолет.')\n",
      "--------------------------------------------------\n",
      "Ground truth: \n",
      "--------------------------------------------------\n",
      "('Бывший президент Грузии и экс-губернатор Одесской области Украины Михаил '\n",
      " 'Саакашвили, который в последнее время регулярно выступает с критикой в адрес '\n",
      " 'украинского президента Петра Порошенко, выслан из Киева в Польшу.')\n"
     ]
    }
   ],
   "source": [
    "from pprint import pprint # красивый вывод\n",
    "from random import choice # получение рандомного сэмпла из выборки\n",
    "\n",
    "# Формируем случайный сэмпл из тестовой выборки\n",
    "random_idx = choice(range(0, len(test_dataset)))\n",
    "random_text = test_dataset['input'][random_idx]\n",
    "random_output = test_dataset['output'][random_idx]\n",
    "\n",
    "# Генерируем ответ у 2-х моделей\n",
    "predicted_output_pretrained = inference(random_text, model_sft, tokenizer_sft)\n",
    "predicted_output_base = inference(random_text, model_base, tokenizer_base)\n",
    "\n",
    "# Вывод выхлопа моделей и ground truth\n",
    "print('-' * 50)\n",
    "print(\"SFT model: \")\n",
    "print('-' * 50)\n",
    "pprint(predicted_output_pretrained)\n",
    "\n",
    "print('-' * 50)\n",
    "print(\"Base model: \")\n",
    "print('-' * 50)\n",
    "pprint(predicted_output_base)\n",
    "\n",
    "print('-' * 50)\n",
    "print('Ground truth: ')\n",
    "print('-' * 50)\n",
    "pprint(random_output)"
   ]
  },
  {
   "cell_type": "markdown",
   "metadata": {},
   "source": [
    "# Results"
   ]
  },
  {
   "cell_type": "markdown",
   "metadata": {},
   "source": [
    "По окончанию SFT я в целом доволен результатом:\n",
    "1) Модель научилась следовать формату промптов\n",
    "2) Лучше понимает русский текст\n",
    "3) Улавливает контекст при резюмировании\n",
    "4) Хоть ответы и отличаются от GT, но при этом главная мысль текста передана"
   ]
  },
  {
   "cell_type": "markdown",
   "metadata": {},
   "source": [
    "## Сравнивая базовый **Qwen2.5-0.5B** и **SFT Qwen2.5-0.5B**:\n",
    "* Базовая модель довольно плохо следует инструкциям и не делает резюмирование текста, что часто обрезается токенайзером по длине строки. Не соблюдает формат промпта, что делает невозможным правильно парсить ответ. Бывает часто зацикливается на повторении, если не ставить большой ```reputatuin_penality```.\n",
    "\n",
    "* В свою очередь SFT модель понимает свою задачу, делает правильные резюмирования текстов и соблюдает формат вывода. Всегда укладывается в нужное количество новых токенов при генерации. Не зацикливается при генерации ответа.\n",
    "\n",
    "## Говоря о плюсах SFT подхода для трансформерных моделей:\n",
    "1) Малое потребление VRAM (спасибо за поддержку квантизации)\n",
    "2) Довольно быстрое обучение (спасибо, за оптимизацию от unsloth)\n",
    "3) Нетребовательна к gold-данным, так как тонкая настройка не сильно портит модель, но при этом хоть какая-то полезная дата бустит модель.\n",
    "\n",
    "## Говоря о минусах SFT подхода для трансформерных моделей:\n",
    "1) Нужно много данных (как собственно и для всего обучения трансформерных моделек)\n",
    "2) Полностью изменить спецификацию моделей, без дополнительной RL настройки после SFT (например PPO/GRPO и прочие policy) вряд ли выйдет.\n",
    "3) Лучше показывают себя LLM большего размера, хотя бы с >1.5B параметрами, так как они быстрее улавливают задачу и контекст."
   ]
  }
 ],
 "metadata": {
  "kernelspec": {
   "display_name": ".venv",
   "language": "python",
   "name": "python3"
  },
  "language_info": {
   "codemirror_mode": {
    "name": "ipython",
    "version": 3
   },
   "file_extension": ".py",
   "mimetype": "text/x-python",
   "name": "python",
   "nbconvert_exporter": "python",
   "pygments_lexer": "ipython3",
   "version": "3.10.12"
  }
 },
 "nbformat": 4,
 "nbformat_minor": 2
}
